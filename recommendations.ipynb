{
 "cells": [
  {
   "cell_type": "markdown",
   "id": "f4095ae4-7294-4b28-853e-88d235002c97",
   "metadata": {},
   "source": [
    "# Инициализация"
   ]
  },
  {
   "cell_type": "markdown",
   "id": "2f2318d2-9df8-4911-915e-15b725c44f8a",
   "metadata": {},
   "source": [
    "Загружаем библиотеки необходимые для выполнения кода ноутбука."
   ]
  },
  {
   "cell_type": "code",
   "execution_count": 1,
   "id": "662d04e7-1b0b-4e4a-9ddf-4526d7fef119",
   "metadata": {},
   "outputs": [],
   "source": [
    "import pandas as pd\n",
    "import numpy as np\n",
    "import matplotlib.pyplot as plt\n",
    "import seaborn as sns"
   ]
  },
  {
   "cell_type": "markdown",
   "id": "bf80fbc5-b660-4fac-8fbb-a5cae77313b3",
   "metadata": {},
   "source": [
    "# === ЭТАП 1 ==="
   ]
  },
  {
   "cell_type": "markdown",
   "id": "5263a8b3-fe99-4204-8a2e-105182792c11",
   "metadata": {},
   "source": [
    "# Загрузка первичных данных"
   ]
  },
  {
   "cell_type": "markdown",
   "id": "1b54a6a5-1656-4e3c-99d1-49dc39451d33",
   "metadata": {},
   "source": [
    "Загружаем первичные данные из файлов:\n",
    "- tracks.parquet\n",
    "- catalog_names.parquet\n",
    "- interactions.parquet"
   ]
  },
  {
   "cell_type": "code",
   "execution_count": 2,
   "id": "5d4b8961-3f35-4e58-9d6b-3e2dbd2c4224",
   "metadata": {},
   "outputs": [],
   "source": [
    "tracks = pd.read_parquet(\"data/tracks.parquet\")\n",
    "catalog_names = pd.read_parquet(\"data/catalog_names.parquet\")\n",
    "interactions = pd.read_parquet(\"data/interactions.parquet\")"
   ]
  },
  {
   "cell_type": "code",
   "execution_count": 3,
   "id": "092bb79a-ad52-46f1-9fd4-94ec08c8079b",
   "metadata": {},
   "outputs": [
    {
     "data": {
      "text/html": [
       "<div>\n",
       "<style scoped>\n",
       "    .dataframe tbody tr th:only-of-type {\n",
       "        vertical-align: middle;\n",
       "    }\n",
       "\n",
       "    .dataframe tbody tr th {\n",
       "        vertical-align: top;\n",
       "    }\n",
       "\n",
       "    .dataframe thead th {\n",
       "        text-align: right;\n",
       "    }\n",
       "</style>\n",
       "<table border=\"1\" class=\"dataframe\">\n",
       "  <thead>\n",
       "    <tr style=\"text-align: right;\">\n",
       "      <th></th>\n",
       "      <th>track_id</th>\n",
       "      <th>albums</th>\n",
       "      <th>artists</th>\n",
       "      <th>genres</th>\n",
       "    </tr>\n",
       "  </thead>\n",
       "  <tbody>\n",
       "    <tr>\n",
       "      <th>0</th>\n",
       "      <td>26</td>\n",
       "      <td>[3, 2490753]</td>\n",
       "      <td>[16]</td>\n",
       "      <td>[11, 21]</td>\n",
       "    </tr>\n",
       "    <tr>\n",
       "      <th>1</th>\n",
       "      <td>38</td>\n",
       "      <td>[3, 2490753]</td>\n",
       "      <td>[16]</td>\n",
       "      <td>[11, 21]</td>\n",
       "    </tr>\n",
       "    <tr>\n",
       "      <th>2</th>\n",
       "      <td>135</td>\n",
       "      <td>[12, 214, 2490809]</td>\n",
       "      <td>[84]</td>\n",
       "      <td>[11]</td>\n",
       "    </tr>\n",
       "  </tbody>\n",
       "</table>\n",
       "</div>"
      ],
      "text/plain": [
       "   track_id              albums artists    genres\n",
       "0        26        [3, 2490753]    [16]  [11, 21]\n",
       "1        38        [3, 2490753]    [16]  [11, 21]\n",
       "2       135  [12, 214, 2490809]    [84]      [11]"
      ]
     },
     "execution_count": 3,
     "metadata": {},
     "output_type": "execute_result"
    }
   ],
   "source": [
    "tracks.head(3)"
   ]
  },
  {
   "cell_type": "code",
   "execution_count": 4,
   "id": "d8123b90-c821-47ba-a429-8cb6e5c887fe",
   "metadata": {},
   "outputs": [
    {
     "data": {
      "text/html": [
       "<div>\n",
       "<style scoped>\n",
       "    .dataframe tbody tr th:only-of-type {\n",
       "        vertical-align: middle;\n",
       "    }\n",
       "\n",
       "    .dataframe tbody tr th {\n",
       "        vertical-align: top;\n",
       "    }\n",
       "\n",
       "    .dataframe thead th {\n",
       "        text-align: right;\n",
       "    }\n",
       "</style>\n",
       "<table border=\"1\" class=\"dataframe\">\n",
       "  <thead>\n",
       "    <tr style=\"text-align: right;\">\n",
       "      <th></th>\n",
       "      <th>id</th>\n",
       "      <th>type</th>\n",
       "      <th>name</th>\n",
       "    </tr>\n",
       "  </thead>\n",
       "  <tbody>\n",
       "    <tr>\n",
       "      <th>0</th>\n",
       "      <td>3</td>\n",
       "      <td>album</td>\n",
       "      <td>Taller Children</td>\n",
       "    </tr>\n",
       "    <tr>\n",
       "      <th>1</th>\n",
       "      <td>12</td>\n",
       "      <td>album</td>\n",
       "      <td>Wild Young Hearts</td>\n",
       "    </tr>\n",
       "    <tr>\n",
       "      <th>2</th>\n",
       "      <td>13</td>\n",
       "      <td>album</td>\n",
       "      <td>Lonesome Crow</td>\n",
       "    </tr>\n",
       "  </tbody>\n",
       "</table>\n",
       "</div>"
      ],
      "text/plain": [
       "   id   type               name\n",
       "0   3  album    Taller Children\n",
       "1  12  album  Wild Young Hearts\n",
       "2  13  album      Lonesome Crow"
      ]
     },
     "execution_count": 4,
     "metadata": {},
     "output_type": "execute_result"
    }
   ],
   "source": [
    "catalog_names.head(3)"
   ]
  },
  {
   "cell_type": "code",
   "execution_count": 5,
   "id": "c951b936-7e28-4817-a44b-df8fff420d21",
   "metadata": {},
   "outputs": [
    {
     "data": {
      "text/html": [
       "<div>\n",
       "<style scoped>\n",
       "    .dataframe tbody tr th:only-of-type {\n",
       "        vertical-align: middle;\n",
       "    }\n",
       "\n",
       "    .dataframe tbody tr th {\n",
       "        vertical-align: top;\n",
       "    }\n",
       "\n",
       "    .dataframe thead th {\n",
       "        text-align: right;\n",
       "    }\n",
       "</style>\n",
       "<table border=\"1\" class=\"dataframe\">\n",
       "  <thead>\n",
       "    <tr style=\"text-align: right;\">\n",
       "      <th></th>\n",
       "      <th>user_id</th>\n",
       "      <th>track_id</th>\n",
       "      <th>track_seq</th>\n",
       "      <th>started_at</th>\n",
       "    </tr>\n",
       "  </thead>\n",
       "  <tbody>\n",
       "    <tr>\n",
       "      <th>0</th>\n",
       "      <td>0</td>\n",
       "      <td>99262</td>\n",
       "      <td>1</td>\n",
       "      <td>2022-07-17</td>\n",
       "    </tr>\n",
       "    <tr>\n",
       "      <th>1</th>\n",
       "      <td>0</td>\n",
       "      <td>589498</td>\n",
       "      <td>2</td>\n",
       "      <td>2022-07-19</td>\n",
       "    </tr>\n",
       "    <tr>\n",
       "      <th>2</th>\n",
       "      <td>0</td>\n",
       "      <td>590262</td>\n",
       "      <td>3</td>\n",
       "      <td>2022-07-21</td>\n",
       "    </tr>\n",
       "  </tbody>\n",
       "</table>\n",
       "</div>"
      ],
      "text/plain": [
       "   user_id  track_id  track_seq started_at\n",
       "0        0     99262          1 2022-07-17\n",
       "1        0    589498          2 2022-07-19\n",
       "2        0    590262          3 2022-07-21"
      ]
     },
     "execution_count": 5,
     "metadata": {},
     "output_type": "execute_result"
    }
   ],
   "source": [
    "interactions.head(3)"
   ]
  },
  {
   "cell_type": "code",
   "execution_count": 6,
   "id": "88a1ab71-b71c-40de-bb59-619af01ee397",
   "metadata": {},
   "outputs": [
    {
     "data": {
      "text/plain": [
       "350.9522705078125"
      ]
     },
     "execution_count": 6,
     "metadata": {},
     "output_type": "execute_result"
    }
   ],
   "source": [
    "tracks.memory_usage(deep=True).sum() / (1024 ** 2)"
   ]
  },
  {
   "cell_type": "code",
   "execution_count": 7,
   "id": "da0bbd1c-0470-4886-9446-f3f400077b29",
   "metadata": {},
   "outputs": [
    {
     "data": {
      "text/plain": [
       "263.70952892303467"
      ]
     },
     "execution_count": 7,
     "metadata": {},
     "output_type": "execute_result"
    }
   ],
   "source": [
    "catalog_names.memory_usage(deep=True).sum() / (1024 ** 2)"
   ]
  },
  {
   "cell_type": "code",
   "execution_count": 8,
   "id": "54a25a46-3427-42f9-80d6-9e461b3c76f5",
   "metadata": {},
   "outputs": [
    {
     "data": {
      "text/plain": [
       "5520.226810455322"
      ]
     },
     "execution_count": 8,
     "metadata": {},
     "output_type": "execute_result"
    }
   ],
   "source": [
    "interactions.memory_usage(deep=True).sum() / (1024 ** 2)"
   ]
  },
  {
   "cell_type": "code",
   "execution_count": 9,
   "id": "4e86f425-ed43-489e-abc7-17e14ed11a56",
   "metadata": {},
   "outputs": [
    {
     "name": "stdout",
     "output_type": "stream",
     "text": [
      "<class 'pandas.core.frame.DataFrame'>\n",
      "Index: 222629898 entries, 0 to 291\n",
      "Data columns (total 4 columns):\n",
      " #   Column      Dtype         \n",
      "---  ------      -----         \n",
      " 0   user_id     int32         \n",
      " 1   track_id    int32         \n",
      " 2   track_seq   int16         \n",
      " 3   started_at  datetime64[ns]\n",
      "dtypes: datetime64[ns](1), int16(1), int32(2)\n",
      "memory usage: 5.4 GB\n"
     ]
    }
   ],
   "source": [
    "interactions.info()"
   ]
  },
  {
   "cell_type": "markdown",
   "id": "e8f2a1f7-a05f-4f39-af90-5f4018aa6f9d",
   "metadata": {},
   "source": [
    "# Обзор данных"
   ]
  },
  {
   "cell_type": "markdown",
   "id": "46a85307-896c-4fac-9fcf-f0dffa90889e",
   "metadata": {},
   "source": [
    "Проверяем данные, есть ли с ними явные проблемы."
   ]
  },
  {
   "cell_type": "code",
   "execution_count": 10,
   "id": "c9f8f17e-9b56-4f5a-a463-f694a993effb",
   "metadata": {},
   "outputs": [],
   "source": [
    "type_counts = catalog_names[\"type\"].value_counts()"
   ]
  },
  {
   "cell_type": "code",
   "execution_count": 11,
   "id": "3240064e-8fb2-4773-9f6f-a0c07b32e162",
   "metadata": {},
   "outputs": [
    {
     "data": {
      "image/png": "[encoded data removed]",
      "text/plain": [
       "<Figure size 640x480 with 1 Axes>"
      ]
     },
     "metadata": {},
     "output_type": "display_data"
    }
   ],
   "source": [
    "# Bar plot\n",
    "plt.figure()\n",
    "plt.bar(type_counts.index, type_counts.values)\n",
    "plt.xlabel('Type')\n",
    "plt.ylabel('Count')\n",
    "plt.title('Counts of Each Type in catalog_names')\n",
    "plt.xticks(rotation=45)  # Rotate labels if needed\n",
    "plt.tight_layout()\n",
    "plt.show()"
   ]
  },
  {
   "cell_type": "code",
   "execution_count": 12,
   "id": "349ab187-cd70-4b21-9c2f-584b9d94df1f",
   "metadata": {},
   "outputs": [],
   "source": [
    "del type_counts"
   ]
  },
  {
   "cell_type": "code",
   "execution_count": 13,
   "id": "e472a134-4cc0-4dfd-9eac-ed43c082b20c",
   "metadata": {},
   "outputs": [
    {
     "name": "stdout",
     "output_type": "stream",
     "text": [
      "<class 'pandas.core.frame.DataFrame'>\n",
      "RangeIndex: 1000000 entries, 0 to 999999\n",
      "Data columns (total 4 columns):\n",
      " #   Column    Non-Null Count    Dtype \n",
      "---  ------    --------------    ----- \n",
      " 0   track_id  1000000 non-null  int64 \n",
      " 1   albums    1000000 non-null  object\n",
      " 2   artists   1000000 non-null  object\n",
      " 3   genres    1000000 non-null  object\n",
      "dtypes: int64(1), object(3)\n",
      "memory usage: 30.5+ MB\n"
     ]
    }
   ],
   "source": [
    "tracks.info()"
   ]
  },
  {
   "cell_type": "code",
   "execution_count": 14,
   "id": "22e6d286-686b-45b8-b540-b66cbe7b1998",
   "metadata": {},
   "outputs": [
    {
     "name": "stdout",
     "output_type": "stream",
     "text": [
      "<class 'pandas.core.frame.DataFrame'>\n",
      "RangeIndex: 1812471 entries, 0 to 1812470\n",
      "Data columns (total 3 columns):\n",
      " #   Column  Dtype \n",
      "---  ------  ----- \n",
      " 0   id      int64 \n",
      " 1   type    object\n",
      " 2   name    object\n",
      "dtypes: int64(1), object(2)\n",
      "memory usage: 41.5+ MB\n"
     ]
    }
   ],
   "source": [
    "catalog_names.info()"
   ]
  },
  {
   "cell_type": "code",
   "execution_count": 15,
   "id": "0458b40e-a361-48a2-93da-3abbca248aa5",
   "metadata": {},
   "outputs": [
    {
     "name": "stdout",
     "output_type": "stream",
     "text": [
      "<class 'pandas.core.frame.DataFrame'>\n",
      "Index: 222629898 entries, 0 to 291\n",
      "Data columns (total 4 columns):\n",
      " #   Column      Dtype         \n",
      "---  ------      -----         \n",
      " 0   user_id     int32         \n",
      " 1   track_id    int32         \n",
      " 2   track_seq   int16         \n",
      " 3   started_at  datetime64[ns]\n",
      "dtypes: datetime64[ns](1), int16(1), int32(2)\n",
      "memory usage: 5.4 GB\n"
     ]
    }
   ],
   "source": [
    "interactions.info()"
   ]
  },
  {
   "cell_type": "markdown",
   "id": "318b573a-9e2d-4808-95db-60cfb8bbdb73",
   "metadata": {
    "editable": true,
    "slideshow": {
     "slide_type": ""
    },
    "tags": []
   },
   "source": [
    "# Выводы"
   ]
  },
  {
   "cell_type": "markdown",
   "id": "caa96e12-36a8-4401-8f11-98627a49ae9d",
   "metadata": {},
   "source": [
    "Приведём выводы по первому знакомству с данными:\n",
    "- есть ли с данными явные проблемы,\n",
    "- какие корректирующие действия (в целом) были предприняты."
   ]
  },
  {
   "cell_type": "markdown",
   "id": "3d4572f2-1795-4920-8f79-a6e7ceb9625d",
   "metadata": {},
   "source": [
    "Тип индентификаторов"
   ]
  },
  {
   "cell_type": "markdown",
   "id": "e7d9f1f1-bd53-48d1-98d3-bb3d04764cb4",
   "metadata": {},
   "source": [
    "Очевидно, что для track_id необходимо преобразование (так как нумерация не начиная с 0 через 1)"
   ]
  },
  {
   "cell_type": "code",
   "execution_count": 16,
   "id": "524996fe-fe55-443a-93b5-b448119ea15a",
   "metadata": {},
   "outputs": [
    {
     "data": {
      "text/html": [
       "<div>\n",
       "<style scoped>\n",
       "    .dataframe tbody tr th:only-of-type {\n",
       "        vertical-align: middle;\n",
       "    }\n",
       "\n",
       "    .dataframe tbody tr th {\n",
       "        vertical-align: top;\n",
       "    }\n",
       "\n",
       "    .dataframe thead th {\n",
       "        text-align: right;\n",
       "    }\n",
       "</style>\n",
       "<table border=\"1\" class=\"dataframe\">\n",
       "  <thead>\n",
       "    <tr style=\"text-align: right;\">\n",
       "      <th></th>\n",
       "      <th>id</th>\n",
       "      <th>type</th>\n",
       "      <th>name</th>\n",
       "    </tr>\n",
       "  </thead>\n",
       "  <tbody>\n",
       "    <tr>\n",
       "      <th>812471</th>\n",
       "      <td>26</td>\n",
       "      <td>track</td>\n",
       "      <td>Complimentary Me</td>\n",
       "    </tr>\n",
       "    <tr>\n",
       "      <th>812472</th>\n",
       "      <td>38</td>\n",
       "      <td>track</td>\n",
       "      <td>Momma's Boy</td>\n",
       "    </tr>\n",
       "    <tr>\n",
       "      <th>812473</th>\n",
       "      <td>135</td>\n",
       "      <td>track</td>\n",
       "      <td>Atticus</td>\n",
       "    </tr>\n",
       "    <tr>\n",
       "      <th>812474</th>\n",
       "      <td>136</td>\n",
       "      <td>track</td>\n",
       "      <td>24 Hours</td>\n",
       "    </tr>\n",
       "    <tr>\n",
       "      <th>812475</th>\n",
       "      <td>138</td>\n",
       "      <td>track</td>\n",
       "      <td>Don't Upset The Rhythm (Go Baby Go)</td>\n",
       "    </tr>\n",
       "    <tr>\n",
       "      <th>...</th>\n",
       "      <td>...</td>\n",
       "      <td>...</td>\n",
       "      <td>...</td>\n",
       "    </tr>\n",
       "    <tr>\n",
       "      <th>1812466</th>\n",
       "      <td>101478482</td>\n",
       "      <td>track</td>\n",
       "      <td>На лицо</td>\n",
       "    </tr>\n",
       "    <tr>\n",
       "      <th>1812467</th>\n",
       "      <td>101490148</td>\n",
       "      <td>track</td>\n",
       "      <td>Без капли мысли</td>\n",
       "    </tr>\n",
       "    <tr>\n",
       "      <th>1812468</th>\n",
       "      <td>101493057</td>\n",
       "      <td>track</td>\n",
       "      <td>SKITTLES</td>\n",
       "    </tr>\n",
       "    <tr>\n",
       "      <th>1812469</th>\n",
       "      <td>101495927</td>\n",
       "      <td>track</td>\n",
       "      <td>Москва</td>\n",
       "    </tr>\n",
       "    <tr>\n",
       "      <th>1812470</th>\n",
       "      <td>101521819</td>\n",
       "      <td>track</td>\n",
       "      <td>Вокзал</td>\n",
       "    </tr>\n",
       "  </tbody>\n",
       "</table>\n",
       "<p>1000000 rows × 3 columns</p>\n",
       "</div>"
      ],
      "text/plain": [
       "                id   type                                 name\n",
       "812471          26  track                     Complimentary Me\n",
       "812472          38  track                          Momma's Boy\n",
       "812473         135  track                              Atticus\n",
       "812474         136  track                             24 Hours\n",
       "812475         138  track  Don't Upset The Rhythm (Go Baby Go)\n",
       "...            ...    ...                                  ...\n",
       "1812466  101478482  track                              На лицо\n",
       "1812467  101490148  track                      Без капли мысли\n",
       "1812468  101493057  track                             SKITTLES\n",
       "1812469  101495927  track                               Москва\n",
       "1812470  101521819  track                               Вокзал\n",
       "\n",
       "[1000000 rows x 3 columns]"
      ]
     },
     "execution_count": 16,
     "metadata": {},
     "output_type": "execute_result"
    }
   ],
   "source": [
    "catalog_names[catalog_names[\"type\"] == 'track']"
   ]
  },
  {
   "cell_type": "markdown",
   "id": "6dc30242-70d0-40a3-bd1a-c1dbc34f48e1",
   "metadata": {},
   "source": [
    "Проверим для user_id, на первый взгляд, с user_id все нормально"
   ]
  },
  {
   "cell_type": "code",
   "execution_count": 17,
   "id": "408cc908-2ff0-41e9-a6e2-ce584a06b932",
   "metadata": {},
   "outputs": [
    {
     "data": {
      "text/plain": [
       "array([      0,       1,       2, ..., 1374580, 1374581, 1374582],\n",
       "      dtype=int32)"
      ]
     },
     "execution_count": 17,
     "metadata": {},
     "output_type": "execute_result"
    }
   ],
   "source": [
    "interactions[\"user_id\"].unique()"
   ]
  },
  {
   "cell_type": "markdown",
   "id": "1ccfdf75-d25f-4fcf-b7a3-efaeb063d731",
   "metadata": {},
   "source": [
    "Но оказывается, что user_id не пронумерованы от 0 до n без пропусков и повторов. Поэтому user_id тоже требует преобразования при помощи LabelEncoder"
   ]
  },
  {
   "cell_type": "code",
   "execution_count": 18,
   "id": "8d0b65be-1f49-43cf-8054-ca424ddc7c57",
   "metadata": {},
   "outputs": [
    {
     "name": "stdout",
     "output_type": "stream",
     "text": [
      "ID не соответствуют диапазону 0..n без пропусков.\n"
     ]
    }
   ],
   "source": [
    "import numpy as np\n",
    "\n",
    "ids = interactions['user_id'].to_numpy()\n",
    "\n",
    "# Убираем дубликаты\n",
    "unique_ids = np.unique(ids)\n",
    "\n",
    "# Проверка на полноту диапазона\n",
    "if unique_ids[0] == 0 and np.array_equal(unique_ids, np.arange(len(unique_ids))):\n",
    "    print(\"ID пронумерованы от 0 до n без пропусков и повторов.\")\n",
    "else:\n",
    "    print(\"ID не соответствуют диапазону 0..n без пропусков.\")"
   ]
  },
  {
   "cell_type": "code",
   "execution_count": 19,
   "id": "5995c91f-1293-4f2d-b245-8041b03e3933",
   "metadata": {},
   "outputs": [],
   "source": [
    "del ids\n",
    "del unique_ids"
   ]
  },
  {
   "cell_type": "markdown",
   "id": "7bc3296b-eba6-4333-a78d-b9304aa87e3d",
   "metadata": {},
   "source": [
    "# === ЭТАП 2 ==="
   ]
  },
  {
   "cell_type": "markdown",
   "id": "68e73960-fd38-4e15-8db0-9a25c35dfd25",
   "metadata": {},
   "source": [
    "# EDA"
   ]
  },
  {
   "cell_type": "markdown",
   "id": "a30e823e-8e0f-4a76-a02e-8d1ba8bf0f8a",
   "metadata": {},
   "source": [
    "Распределение количества прослушанных треков."
   ]
  },
  {
   "cell_type": "code",
   "execution_count": 20,
   "id": "9bf5eaba-35f7-4da7-be59-9ab4a34b2423",
   "metadata": {},
   "outputs": [],
   "source": [
    "unq_songs_by_user = interactions.groupby(\"user_id\")[\"track_id\"].nunique()"
   ]
  },
  {
   "cell_type": "markdown",
   "id": "99300718-82bc-4621-9d2f-4d837156c320",
   "metadata": {},
   "source": [
    "Среднее кол-во прослушанных треков по пользователю"
   ]
  },
  {
   "cell_type": "code",
   "execution_count": 21,
   "id": "5457fddc-9207-4cc2-9a3a-d00c92d14569",
   "metadata": {},
   "outputs": [
    {
     "data": {
      "text/plain": [
       "162.12241001266366"
      ]
     },
     "execution_count": 21,
     "metadata": {},
     "output_type": "execute_result"
    }
   ],
   "source": [
    "unq_songs_by_user.mean()"
   ]
  },
  {
   "cell_type": "markdown",
   "id": "cb117e4a-415c-425a-82d8-57f94e43b95a",
   "metadata": {},
   "source": [
    "Медианное кол-во прослушанных треков по пользователю"
   ]
  },
  {
   "cell_type": "code",
   "execution_count": 22,
   "id": "494472f9-7629-4b78-a142-6dbf47abda85",
   "metadata": {},
   "outputs": [
    {
     "data": {
      "text/plain": [
       "55.0"
      ]
     },
     "execution_count": 22,
     "metadata": {},
     "output_type": "execute_result"
    }
   ],
   "source": [
    "unq_songs_by_user.median()"
   ]
  },
  {
   "cell_type": "markdown",
   "id": "d73c3d76-6e82-426e-b0fc-87d1aeb35627",
   "metadata": {},
   "source": [
    "Стандартное отклонение кол-ва прослушанных треков по пользователю"
   ]
  },
  {
   "cell_type": "code",
   "execution_count": 23,
   "id": "e2f19029-0945-4e9e-b220-b0f930eae52c",
   "metadata": {},
   "outputs": [
    {
     "data": {
      "text/plain": [
       "351.2846250431907"
      ]
     },
     "execution_count": 23,
     "metadata": {},
     "output_type": "execute_result"
    }
   ],
   "source": [
    "unq_songs_by_user.std()"
   ]
  },
  {
   "cell_type": "markdown",
   "id": "c0e70e7a-f3aa-44a9-83a8-fef7f0141ab7",
   "metadata": {},
   "source": [
    "Максимальнвые и минимальные значения"
   ]
  },
  {
   "cell_type": "code",
   "execution_count": 24,
   "id": "1a73141d-6a4d-4d53-b509-cba07fa9b98d",
   "metadata": {},
   "outputs": [
    {
     "data": {
      "text/plain": [
       "(16637, 1)"
      ]
     },
     "execution_count": 24,
     "metadata": {},
     "output_type": "execute_result"
    }
   ],
   "source": [
    "unq_songs_by_user.max(), unq_songs_by_user.min()"
   ]
  },
  {
   "cell_type": "markdown",
   "id": "5f04c30a-b71c-4bf5-a6bc-f8385c7186d3",
   "metadata": {},
   "source": [
    "Распределение кол-ва прослушанных треков по пользователям"
   ]
  },
  {
   "cell_type": "code",
   "execution_count": 25,
   "id": "e951efce-0cc3-4b61-bfbe-a91414374b4a",
   "metadata": {},
   "outputs": [
    {
     "data": {
      "text/plain": [
       "<Axes: >"
      ]
     },
     "execution_count": 25,
     "metadata": {},
     "output_type": "execute_result"
    },
    {
     "data": {
      "image/png": "[encoded data removed]",
      "text/plain": [
       "<Figure size 640x480 with 1 Axes>"
      ]
     },
     "metadata": {},
     "output_type": "display_data"
    }
   ],
   "source": [
    "unq_songs_by_user.hist(bins=300)"
   ]
  },
  {
   "cell_type": "code",
   "execution_count": 26,
   "id": "ab758385-8d0d-4e74-b411-ceb04d37efc9",
   "metadata": {},
   "outputs": [],
   "source": [
    "del unq_songs_by_user"
   ]
  },
  {
   "cell_type": "markdown",
   "id": "d765519a-18dd-4d30-9e29-cc2d84cacd79",
   "metadata": {},
   "source": [
    "Наиболее популярные треки"
   ]
  },
  {
   "cell_type": "code",
   "execution_count": 27,
   "id": "c486da5d-fe86-4c4d-b5d7-d3b256b0575d",
   "metadata": {},
   "outputs": [],
   "source": [
    "popular_tracks = pd.merge(interactions[\"track_id\"], catalog_names[catalog_names[\"type\"] == 'track'][[\"id\", \"name\"]], left_on=\"track_id\", right_on=\"id\", how=\"left\")"
   ]
  },
  {
   "cell_type": "code",
   "execution_count": 28,
   "id": "aecaf630-fde0-4860-b84a-42c933a9606e",
   "metadata": {},
   "outputs": [
    {
     "name": "stderr",
     "output_type": "stream",
     "text": [
      "/home/ak/Desktop/mle-project-sprint-4-v001/.venv_project/lib/python3.10/site-packages/seaborn/_oldcore.py:1498: FutureWarning: is_categorical_dtype is deprecated and will be removed in a future version. Use isinstance(dtype, CategoricalDtype) instead\n",
      "  if pd.api.types.is_categorical_dtype(vector):\n",
      "/home/ak/Desktop/mle-project-sprint-4-v001/.venv_project/lib/python3.10/site-packages/seaborn/_oldcore.py:1498: FutureWarning: is_categorical_dtype is deprecated and will be removed in a future version. Use isinstance(dtype, CategoricalDtype) instead\n",
      "  if pd.api.types.is_categorical_dtype(vector):\n",
      "/home/ak/Desktop/mle-project-sprint-4-v001/.venv_project/lib/python3.10/site-packages/seaborn/_oldcore.py:1498: FutureWarning: is_categorical_dtype is deprecated and will be removed in a future version. Use isinstance(dtype, CategoricalDtype) instead\n",
      "  if pd.api.types.is_categorical_dtype(vector):\n"
     ]
    },
    {
     "data": {
      "image/png": "[encoded data removed]",
      "text/plain": [
       "<Figure size 1200x600 with 1 Axes>"
      ]
     },
     "metadata": {},
     "output_type": "display_data"
    }
   ],
   "source": [
    "import pandas as pd\n",
    "import seaborn as sns\n",
    "import matplotlib.pyplot as plt\n",
    "\n",
    "# Count the occurrences of each track name\n",
    "top_tracks = popular_tracks['name'].value_counts().nlargest(10)\n",
    "\n",
    "# Create the barplot\n",
    "plt.figure(figsize=(12, 6))\n",
    "sns.barplot(x=top_tracks.values, y=top_tracks.index, palette='viridis')\n",
    "plt.xlabel('Number of Interactions')\n",
    "plt.ylabel('Track Name')\n",
    "plt.title('Top 10 Most Popular Tracks')\n",
    "plt.tight_layout()\n",
    "plt.show()"
   ]
  },
  {
   "cell_type": "code",
   "execution_count": 29,
   "id": "641a4617-7928-4936-9452-466998ac3fb6",
   "metadata": {},
   "outputs": [],
   "source": [
    "del popular_tracks"
   ]
  },
  {
   "cell_type": "markdown",
   "id": "b1c32a5a-d3be-4f96-8dd9-f7860951020c",
   "metadata": {},
   "source": [
    "Наиболее популярные жанры"
   ]
  },
  {
   "cell_type": "code",
   "execution_count": 30,
   "id": "2fb9f190-baa2-4c49-a9d2-de860b640b53",
   "metadata": {},
   "outputs": [],
   "source": [
    "genre_counts = tracks[\"genres\"].explode().value_counts().reset_index().sort_values(by=\"count\", ascending=False)"
   ]
  },
  {
   "cell_type": "code",
   "execution_count": 31,
   "id": "1a8ed92b-67ad-44c1-8d92-649f3a959af8",
   "metadata": {},
   "outputs": [],
   "source": [
    "catalog_names_genres = catalog_names[catalog_names[\"type\"] == \"genre\"]\n",
    "genre_counts = pd.merge(genre_counts, catalog_names_genres[[\"id\", \"name\"]], left_on=\"genres\", right_on=\"id\", how=\"left\")"
   ]
  },
  {
   "cell_type": "markdown",
   "id": "06566802-1214-4383-a59d-10e935851cfa",
   "metadata": {},
   "source": [
    "В трэках есть некоторые жанры, которых нет в catalog_names"
   ]
  },
  {
   "cell_type": "code",
   "execution_count": 32,
   "id": "651a69df-17ea-4b01-a9a1-e4745006fbc4",
   "metadata": {},
   "outputs": [
    {
     "data": {
      "text/plain": [
       "array([154, 161, 163, 158, 157, 151, 169, 155, 159, 164, 156, 162, 168,\n",
       "       153, 160, 165, 146, 167, 131, 152, 126, 130, 132, 134, 135, 133,\n",
       "       166, 148, 150, 124])"
      ]
     },
     "execution_count": 32,
     "metadata": {},
     "output_type": "execute_result"
    }
   ],
   "source": [
    "genre_counts[genre_counts[\"name\"].isna()][\"genres\"].unique()"
   ]
  },
  {
   "cell_type": "code",
   "execution_count": 33,
   "id": "a6738d15-b9fe-46cb-a47b-3bbd2615f376",
   "metadata": {},
   "outputs": [
    {
     "name": "stderr",
     "output_type": "stream",
     "text": [
      "/home/ak/Desktop/mle-project-sprint-4-v001/.venv_project/lib/python3.10/site-packages/seaborn/_oldcore.py:1498: FutureWarning: is_categorical_dtype is deprecated and will be removed in a future version. Use isinstance(dtype, CategoricalDtype) instead\n",
      "  if pd.api.types.is_categorical_dtype(vector):\n",
      "/home/ak/Desktop/mle-project-sprint-4-v001/.venv_project/lib/python3.10/site-packages/seaborn/_oldcore.py:1498: FutureWarning: is_categorical_dtype is deprecated and will be removed in a future version. Use isinstance(dtype, CategoricalDtype) instead\n",
      "  if pd.api.types.is_categorical_dtype(vector):\n",
      "/home/ak/Desktop/mle-project-sprint-4-v001/.venv_project/lib/python3.10/site-packages/seaborn/_oldcore.py:1498: FutureWarning: is_categorical_dtype is deprecated and will be removed in a future version. Use isinstance(dtype, CategoricalDtype) instead\n",
      "  if pd.api.types.is_categorical_dtype(vector):\n"
     ]
    },
    {
     "data": {
      "image/png": "[encoded data removed]",
      "text/plain": [
       "<Figure size 1200x600 with 1 Axes>"
      ]
     },
     "metadata": {},
     "output_type": "display_data"
    }
   ],
   "source": [
    "# Create the barplot\n",
    "plt.figure(figsize=(12, 6))\n",
    "sns.barplot(x=genre_counts.loc[:10, \"name\"].values, y=genre_counts.loc[:10, \"count\"].values, palette='viridis')\n",
    "plt.xlabel('Number of Interactions')\n",
    "plt.ylabel('Track Name')\n",
    "plt.title('Top 10 Most Popular Tracks')\n",
    "plt.tight_layout()\n",
    "plt.show()"
   ]
  },
  {
   "cell_type": "code",
   "execution_count": 34,
   "id": "ade7b418-42cd-4be0-b038-4153a81b1a7c",
   "metadata": {},
   "outputs": [],
   "source": [
    "del genre_counts\n",
    "del catalog_names_genres"
   ]
  },
  {
   "cell_type": "markdown",
   "id": "15254e66-e80e-473b-ba24-abebea5ccac7",
   "metadata": {},
   "source": [
    "Треки, которые никто не прослушал"
   ]
  },
  {
   "cell_type": "code",
   "execution_count": 35,
   "id": "0c79c882-2ae0-4ba7-a46a-af226c534382",
   "metadata": {},
   "outputs": [
    {
     "data": {
      "text/html": [
       "<div>\n",
       "<style scoped>\n",
       "    .dataframe tbody tr th:only-of-type {\n",
       "        vertical-align: middle;\n",
       "    }\n",
       "\n",
       "    .dataframe tbody tr th {\n",
       "        vertical-align: top;\n",
       "    }\n",
       "\n",
       "    .dataframe thead th {\n",
       "        text-align: right;\n",
       "    }\n",
       "</style>\n",
       "<table border=\"1\" class=\"dataframe\">\n",
       "  <thead>\n",
       "    <tr style=\"text-align: right;\">\n",
       "      <th></th>\n",
       "      <th>track_id</th>\n",
       "      <th>albums</th>\n",
       "      <th>artists</th>\n",
       "      <th>genres</th>\n",
       "    </tr>\n",
       "  </thead>\n",
       "  <tbody>\n",
       "  </tbody>\n",
       "</table>\n",
       "</div>"
      ],
      "text/plain": [
       "Empty DataFrame\n",
       "Columns: [track_id, albums, artists, genres]\n",
       "Index: []"
      ]
     },
     "execution_count": 35,
     "metadata": {},
     "output_type": "execute_result"
    }
   ],
   "source": [
    "tracks[~tracks[\"track_id\"].isin(interactions[\"track_id\"].values)]"
   ]
  },
  {
   "cell_type": "markdown",
   "id": "7337cb4f-a3d5-4c23-8d0f-88d1f4a69ef4",
   "metadata": {},
   "source": [
    "Вывод: в interactions нет таких треков, которых бы не было в tracks"
   ]
  },
  {
   "cell_type": "markdown",
   "id": "21629b9c-6378-4285-bf44-7ad725f41747",
   "metadata": {},
   "source": [
    "Все треки прослушивали"
   ]
  },
  {
   "cell_type": "markdown",
   "id": "0d850a07-ef1e-462f-891a-1cf89f2e24ef",
   "metadata": {},
   "source": [
    "# Преобразование данных"
   ]
  },
  {
   "cell_type": "markdown",
   "id": "fabcf8d2-1192-4df5-b20b-fbb84689f57a",
   "metadata": {},
   "source": [
    "Преобразуем данные в формат, более пригодный для дальнейшего использования в расчётах рекомендаций."
   ]
  },
  {
   "cell_type": "code",
   "execution_count": 10,
   "id": "a425556a-9382-45ca-a04e-f1981a522126",
   "metadata": {},
   "outputs": [],
   "source": [
    "events = interactions.copy()\n",
    "events = events.rename(columns={\"track_id\": \"item_id\"})\n",
    "items = catalog_names.copy()"
   ]
  },
  {
   "cell_type": "markdown",
   "id": "47f762f3-b45a-4cb3-bb4a-dc074294bc74",
   "metadata": {},
   "source": [
    "В items оставим только треки"
   ]
  },
  {
   "cell_type": "code",
   "execution_count": 11,
   "id": "a17ce30a-43c0-430e-967f-17f8369e3c76",
   "metadata": {},
   "outputs": [],
   "source": [
    "items = items.rename(columns={\"id\": \"item_id\"})\n",
    "items = items[items['type'] == 'track']"
   ]
  },
  {
   "cell_type": "markdown",
   "id": "0ab65918-a2e8-45e5-8bdc-45aad45af344",
   "metadata": {},
   "source": [
    "Пока удалим interactions и catalog_names для сохранения ресурсов"
   ]
  },
  {
   "cell_type": "code",
   "execution_count": 12,
   "id": "e9ff42a1-5b97-44ac-9e1c-3c7d71753991",
   "metadata": {},
   "outputs": [],
   "source": [
    "del interactions, catalog_names"
   ]
  },
  {
   "cell_type": "markdown",
   "id": "4d1be653-eed8-4fa0-a9c5-3811b080d71d",
   "metadata": {},
   "source": [
    "# Сохранение данных"
   ]
  },
  {
   "cell_type": "markdown",
   "id": "36f1314a-3af3-4faf-a0b1-3045173d1500",
   "metadata": {},
   "source": [
    "Сохраним данные в двух файлах в персональном S3-бакете по пути `recsys/data/`:\n",
    "- `items.parquet` — все данные о музыкальных треках,\n",
    "- `events.parquet` — все данные о взаимодействиях."
   ]
  },
  {
   "cell_type": "code",
   "execution_count": 13,
   "id": "9f77af17-7705-4fae-9aad-db579b39faad",
   "metadata": {},
   "outputs": [],
   "source": [
    "items.to_parquet(\"intermediate_data/items.parquet\")\n",
    "events.to_parquet(\"intermediate_data/events.parquet\")"
   ]
  },
  {
   "cell_type": "markdown",
   "id": "72ecbbed-c560-44d9-9c14-86c7dc76f399",
   "metadata": {},
   "source": [
    "# Очистка памяти"
   ]
  },
  {
   "cell_type": "markdown",
   "id": "b5358ede-ba6e-4c4f-bd73-5b9344f0ba79",
   "metadata": {},
   "source": [
    "Здесь, может понадобится очистка памяти для высвобождения ресурсов для выполнения кода ниже. \n",
    "\n",
    "Приведите соответствующие код, комментарии, например:\n",
    "- код для удаление более ненужных переменных,\n",
    "- комментарий, что следует перезапустить kernel, выполнить такие-то начальные секции и продолжить с этапа 3."
   ]
  },
  {
   "cell_type": "markdown",
   "id": "8773c173-0320-4efb-9238-28006ebec21a",
   "metadata": {},
   "source": [
    "Перезагружае kernel и начинаем выполение с пункта 3"
   ]
  },
  {
   "cell_type": "markdown",
   "id": "708503df-ee89-4cf3-8489-093dc478e2a8",
   "metadata": {},
   "source": [
    "# === ЭТАП 3 ==="
   ]
  },
  {
   "cell_type": "markdown",
   "id": "fd77de22-e10f-4b42-85c1-8fb6f805fe68",
   "metadata": {},
   "source": [
    "# Загрузка данных"
   ]
  },
  {
   "cell_type": "markdown",
   "id": "780a4241-1ecd-4a3e-bbb3-fc2f6ca94f68",
   "metadata": {},
   "source": [
    "Если необходимо, то загружаем items.parquet, events.parquet."
   ]
  },
  {
   "cell_type": "code",
   "execution_count": 1,
   "id": "cbe74abd-7e6c-4bc4-aa61-85fc4fc4c48f",
   "metadata": {},
   "outputs": [],
   "source": [
    "import pandas as pd\n",
    "import numpy as np\n",
    "import matplotlib.pyplot as plt\n",
    "import seaborn as sns\n",
    "import os"
   ]
  },
  {
   "cell_type": "code",
   "execution_count": 2,
   "id": "f19fc8a5-bd2c-40d7-864a-ee75aca6d512",
   "metadata": {},
   "outputs": [],
   "source": [
    "items = pd.read_parquet(\"intermediate_data/items.parquet\")\n",
    "events = pd.read_parquet(\"intermediate_data/events.parquet\")"
   ]
  },
  {
   "cell_type": "markdown",
   "id": "a694c023-6477-490b-939d-1cfa6f5f1b72",
   "metadata": {},
   "source": [
    "# Разбиение данных"
   ]
  },
  {
   "cell_type": "markdown",
   "id": "fbd5f6e0-54e7-4428-8678-eabce505d82c",
   "metadata": {},
   "source": [
    "Разбиваем данные на тренировочную, тестовую выборки."
   ]
  },
  {
   "cell_type": "code",
   "execution_count": 3,
   "id": "00c2dfa5-d8a2-47d1-922e-6eefee2c62d1",
   "metadata": {},
   "outputs": [],
   "source": [
    "from datetime import datetime\n",
    "\n",
    "cutoff_date = datetime(2022, 12, 16)\n",
    "\n",
    "events_train = events[events[\"started_at\"] < cutoff_date]\n",
    "events_test = events[events[\"started_at\"] >= cutoff_date]"
   ]
  },
  {
   "cell_type": "code",
   "execution_count": 4,
   "id": "26fe3e3c-8c5f-4437-bf13-9191adef08bb",
   "metadata": {},
   "outputs": [
    {
     "data": {
      "text/plain": [
       "((208731252, 4), (13898646, 4))"
      ]
     },
     "execution_count": 4,
     "metadata": {},
     "output_type": "execute_result"
    }
   ],
   "source": [
    "events_train.shape, events_test.shape"
   ]
  },
  {
   "cell_type": "markdown",
   "id": "a5e19bf8-429f-450f-80e2-8bbfb8fd2329",
   "metadata": {},
   "source": [
    "Пока удаляем events для экономии ресурсов"
   ]
  },
  {
   "cell_type": "code",
   "execution_count": 5,
   "id": "d707f70f-e7ef-4e90-85fb-6d35505b38a5",
   "metadata": {},
   "outputs": [],
   "source": [
    "del events"
   ]
  },
  {
   "cell_type": "markdown",
   "id": "9131c7e6-8852-4556-b510-51f7253cc299",
   "metadata": {},
   "source": [
    "# Топ популярных"
   ]
  },
  {
   "cell_type": "markdown",
   "id": "dd70d43a-88cc-4719-b291-feaed7136f30",
   "metadata": {},
   "source": [
    "Рассчитаем рекомендации как топ популярных."
   ]
  },
  {
   "cell_type": "markdown",
   "id": "4f7b51da-cb91-4db1-a459-bd8856d8a364",
   "metadata": {},
   "source": [
    "Найдем топ популярных треков на основе последнего месяца из events_train"
   ]
  },
  {
   "cell_type": "code",
   "execution_count": 6,
   "id": "076b89ff-908e-4255-b435-c1f5e1d8d793",
   "metadata": {},
   "outputs": [
    {
     "data": {
      "text/plain": [
       "(Timestamp('2022-01-01 00:00:00'), Timestamp('2022-12-15 00:00:00'))"
      ]
     },
     "execution_count": 6,
     "metadata": {},
     "output_type": "execute_result"
    }
   ],
   "source": [
    "events_train[\"started_at\"].min(), events_train[\"started_at\"].max()"
   ]
  },
  {
   "cell_type": "markdown",
   "id": "9f35ce91-dc4a-4991-8c21-e8ab2009a44f",
   "metadata": {},
   "source": [
    "popularity_score - нормированное число уникальных слушателей трека"
   ]
  },
  {
   "cell_type": "code",
   "execution_count": 7,
   "id": "865f9929-f9cf-46e4-b1c3-7bbe559d838c",
   "metadata": {
    "scrolled": true
   },
   "outputs": [],
   "source": [
    "from sklearn.preprocessing import MinMaxScaler\n",
    "\n",
    "top_start_date = pd.to_datetime(\"2022-11-15\")\n",
    "top_popular = events_train \\\n",
    "    .query(\"started_at >= @top_start_date\") \\\n",
    "    .groupby(\"item_id\").agg(users=(\"user_id\", \"nunique\"))\\\n",
    "    .reset_index()\\\n",
    "    .rename(columns={\"users\": \"popularity_score\"})\n",
    "\n",
    "scaler = MinMaxScaler()\n",
    "top_popular[\"popularity_score\"] = scaler.fit_transform(top_popular[[\"popularity_score\"]])"
   ]
  },
  {
   "cell_type": "markdown",
   "id": "0e9d333c-1053-4f61-81fb-08403ee0f794",
   "metadata": {},
   "source": [
    "Выбираем топ 100 рекомендаций с наивысшим рейтингом"
   ]
  },
  {
   "cell_type": "code",
   "execution_count": 8,
   "id": "1957b184-c9d9-4133-81f7-8b5d1d66a47d",
   "metadata": {},
   "outputs": [],
   "source": [
    "top_popular = top_popular.sort_values(by=\"popularity_score\", ascending=False)\n",
    "top_popular = top_popular.iloc[:100, :]"
   ]
  },
  {
   "cell_type": "code",
   "execution_count": 9,
   "id": "6a5745d1-644f-4bca-a21d-a30ae1a8b685",
   "metadata": {},
   "outputs": [
    {
     "data": {
      "text/html": [
       "<div>\n",
       "<style scoped>\n",
       "    .dataframe tbody tr th:only-of-type {\n",
       "        vertical-align: middle;\n",
       "    }\n",
       "\n",
       "    .dataframe tbody tr th {\n",
       "        vertical-align: top;\n",
       "    }\n",
       "\n",
       "    .dataframe thead th {\n",
       "        text-align: right;\n",
       "    }\n",
       "</style>\n",
       "<table border=\"1\" class=\"dataframe\">\n",
       "  <thead>\n",
       "    <tr style=\"text-align: right;\">\n",
       "      <th></th>\n",
       "      <th>item_id</th>\n",
       "      <th>popularity_score</th>\n",
       "    </tr>\n",
       "  </thead>\n",
       "  <tbody>\n",
       "    <tr>\n",
       "      <th>777271</th>\n",
       "      <td>83063895</td>\n",
       "      <td>1.000000</td>\n",
       "    </tr>\n",
       "    <tr>\n",
       "      <th>619748</th>\n",
       "      <td>60292250</td>\n",
       "      <td>0.984435</td>\n",
       "    </tr>\n",
       "    <tr>\n",
       "      <th>772298</th>\n",
       "      <td>81848875</td>\n",
       "      <td>0.970732</td>\n",
       "    </tr>\n",
       "    <tr>\n",
       "      <th>667865</th>\n",
       "      <td>65851540</td>\n",
       "      <td>0.968993</td>\n",
       "    </tr>\n",
       "    <tr>\n",
       "      <th>753780</th>\n",
       "      <td>78426489</td>\n",
       "      <td>0.950985</td>\n",
       "    </tr>\n",
       "    <tr>\n",
       "      <th>...</th>\n",
       "      <td>...</td>\n",
       "      <td>...</td>\n",
       "    </tr>\n",
       "    <tr>\n",
       "      <th>593076</th>\n",
       "      <td>57104680</td>\n",
       "      <td>0.404868</td>\n",
       "    </tr>\n",
       "    <tr>\n",
       "      <th>437125</th>\n",
       "      <td>39946957</td>\n",
       "      <td>0.404165</td>\n",
       "    </tr>\n",
       "    <tr>\n",
       "      <th>801420</th>\n",
       "      <td>89305091</td>\n",
       "      <td>0.404040</td>\n",
       "    </tr>\n",
       "    <tr>\n",
       "      <th>579067</th>\n",
       "      <td>55291388</td>\n",
       "      <td>0.403130</td>\n",
       "    </tr>\n",
       "    <tr>\n",
       "      <th>736621</th>\n",
       "      <td>75133911</td>\n",
       "      <td>0.398079</td>\n",
       "    </tr>\n",
       "  </tbody>\n",
       "</table>\n",
       "<p>100 rows × 2 columns</p>\n",
       "</div>"
      ],
      "text/plain": [
       "         item_id  popularity_score\n",
       "777271  83063895          1.000000\n",
       "619748  60292250          0.984435\n",
       "772298  81848875          0.970732\n",
       "667865  65851540          0.968993\n",
       "753780  78426489          0.950985\n",
       "...          ...               ...\n",
       "593076  57104680          0.404868\n",
       "437125  39946957          0.404165\n",
       "801420  89305091          0.404040\n",
       "579067  55291388          0.403130\n",
       "736621  75133911          0.398079\n",
       "\n",
       "[100 rows x 2 columns]"
      ]
     },
     "execution_count": 9,
     "metadata": {},
     "output_type": "execute_result"
    }
   ],
   "source": [
    "top_popular"
   ]
  },
  {
   "cell_type": "code",
   "execution_count": 10,
   "id": "bfd4ada9-728f-4e4a-a828-ef7d9e469844",
   "metadata": {},
   "outputs": [],
   "source": [
    "import os\n",
    "os.makedirs(\"recommendations\", exist_ok=True)"
   ]
  },
  {
   "cell_type": "code",
   "execution_count": 11,
   "id": "0c54f320-7acf-4356-9fbd-01c0541829aa",
   "metadata": {},
   "outputs": [],
   "source": [
    "top_popular.to_parquet('recommendations/top_popular.parquet')"
   ]
  },
  {
   "cell_type": "markdown",
   "id": "3244cbdd-4aeb-4f3d-a5b0-05fa1c58bf80",
   "metadata": {},
   "source": [
    "Проверим рекомендации на тестовой выборке"
   ]
  },
  {
   "cell_type": "code",
   "execution_count": 12,
   "id": "113317b9-9171-49e1-a1a1-26ad61f2f7f7",
   "metadata": {},
   "outputs": [],
   "source": [
    "item_popularity_recs = pd.merge(events_test, top_popular, left_on='item_id', right_on='item_id', how='left')"
   ]
  },
  {
   "cell_type": "code",
   "execution_count": 13,
   "id": "7680d09c-6416-4eb1-94c4-46df0c158829",
   "metadata": {},
   "outputs": [
    {
     "data": {
      "text/html": [
       "<div>\n",
       "<style scoped>\n",
       "    .dataframe tbody tr th:only-of-type {\n",
       "        vertical-align: middle;\n",
       "    }\n",
       "\n",
       "    .dataframe tbody tr th {\n",
       "        vertical-align: top;\n",
       "    }\n",
       "\n",
       "    .dataframe thead th {\n",
       "        text-align: right;\n",
       "    }\n",
       "</style>\n",
       "<table border=\"1\" class=\"dataframe\">\n",
       "  <thead>\n",
       "    <tr style=\"text-align: right;\">\n",
       "      <th></th>\n",
       "      <th>user_id</th>\n",
       "      <th>item_id</th>\n",
       "      <th>track_seq</th>\n",
       "      <th>started_at</th>\n",
       "      <th>popularity_score</th>\n",
       "    </tr>\n",
       "  </thead>\n",
       "  <tbody>\n",
       "    <tr>\n",
       "      <th>0</th>\n",
       "      <td>3</td>\n",
       "      <td>78194999</td>\n",
       "      <td>33</td>\n",
       "      <td>2022-12-20</td>\n",
       "      <td>0.552823</td>\n",
       "    </tr>\n",
       "    <tr>\n",
       "      <th>1</th>\n",
       "      <td>4</td>\n",
       "      <td>83375862</td>\n",
       "      <td>245</td>\n",
       "      <td>2022-12-18</td>\n",
       "      <td>NaN</td>\n",
       "    </tr>\n",
       "    <tr>\n",
       "      <th>2</th>\n",
       "      <td>4</td>\n",
       "      <td>83764704</td>\n",
       "      <td>246</td>\n",
       "      <td>2022-12-18</td>\n",
       "      <td>NaN</td>\n",
       "    </tr>\n",
       "    <tr>\n",
       "      <th>3</th>\n",
       "      <td>4</td>\n",
       "      <td>83858540</td>\n",
       "      <td>247</td>\n",
       "      <td>2022-12-20</td>\n",
       "      <td>NaN</td>\n",
       "    </tr>\n",
       "    <tr>\n",
       "      <th>4</th>\n",
       "      <td>4</td>\n",
       "      <td>84099295</td>\n",
       "      <td>248</td>\n",
       "      <td>2022-12-21</td>\n",
       "      <td>NaN</td>\n",
       "    </tr>\n",
       "  </tbody>\n",
       "</table>\n",
       "</div>"
      ],
      "text/plain": [
       "   user_id   item_id  track_seq started_at  popularity_score\n",
       "0        3  78194999         33 2022-12-20          0.552823\n",
       "1        4  83375862        245 2022-12-18               NaN\n",
       "2        4  83764704        246 2022-12-18               NaN\n",
       "3        4  83858540        247 2022-12-20               NaN\n",
       "4        4  84099295        248 2022-12-21               NaN"
      ]
     },
     "execution_count": 13,
     "metadata": {},
     "output_type": "execute_result"
    }
   ],
   "source": [
    "item_popularity_recs.head()"
   ]
  },
  {
   "cell_type": "code",
   "execution_count": 14,
   "id": "ea922027-8ab1-4ff2-8b7a-c472dcce5b15",
   "metadata": {},
   "outputs": [
    {
     "data": {
      "text/plain": [
       "((13898646, 5), (660079, 5))"
      ]
     },
     "execution_count": 14,
     "metadata": {},
     "output_type": "execute_result"
    }
   ],
   "source": [
    "item_popularity_recs.shape, item_popularity_recs[item_popularity_recs['popularity_score'].notna()].shape"
   ]
  },
  {
   "cell_type": "code",
   "execution_count": 15,
   "id": "06e9beef-adf8-42ee-b116-c3b13b213d9c",
   "metadata": {},
   "outputs": [
    {
     "data": {
      "text/plain": [
       "0.31625538432085765"
      ]
     },
     "execution_count": 15,
     "metadata": {},
     "output_type": "execute_result"
    }
   ],
   "source": [
    "item_popularity_recs[item_popularity_recs['popularity_score'].notna()][\"user_id\"].unique().shape[0]\\\n",
    "/ item_popularity_recs[\"user_id\"].unique().shape[0]"
   ]
  },
  {
   "cell_type": "markdown",
   "id": "5fa092ee-e313-4eea-9222-a4094fb51366",
   "metadata": {},
   "source": [
    "Вывод - топ 100 популярных рекомендаций совпали по предпочтениям для 32 % пользователей из тестовой выборки"
   ]
  },
  {
   "cell_type": "code",
   "execution_count": 16,
   "id": "fd9d88dd-1edc-4f75-990b-983f52157d50",
   "metadata": {},
   "outputs": [],
   "source": [
    "del top_popular\n",
    "del item_popularity_recs"
   ]
  },
  {
   "cell_type": "markdown",
   "id": "2ad231f2-6158-421a-b7fa-01d8bc3ed572",
   "metadata": {},
   "source": [
    "# Персональные"
   ]
  },
  {
   "cell_type": "markdown",
   "id": "86159460-cd9d-4b63-8248-604ea3c9aebf",
   "metadata": {},
   "source": [
    "Рассчитаем персональные рекомендации."
   ]
  },
  {
   "cell_type": "code",
   "execution_count": 17,
   "id": "8fe13261-53bc-4596-9183-a5a4d4e9d8b1",
   "metadata": {},
   "outputs": [],
   "source": [
    "events = pd.read_parquet(\"intermediate_data/events.parquet\")"
   ]
  },
  {
   "cell_type": "code",
   "execution_count": 18,
   "id": "1e8cdb58-3a8c-45ad-8e5f-7f950314aa56",
   "metadata": {},
   "outputs": [],
   "source": [
    "import scipy\n",
    "import sklearn.preprocessing\n",
    "\n",
    "# перекодируем идентификаторы пользователей:\n",
    "# из имеющихся в последовательность 0, 1, 2, ...\n",
    "user_encoder = sklearn.preprocessing.LabelEncoder()\n",
    "user_encoder.fit(events[\"user_id\"])\n",
    "events_train[\"user_id_enc\"] = user_encoder.transform(events_train[\"user_id\"])\n",
    "events_test[\"user_id_enc\"] = user_encoder.transform(events_test[\"user_id\"])\n",
    "\n",
    "# перекодируем идентификаторы объектов:\n",
    "# из имеющихся в последовательность 0, 1, 2, ...\n",
    "item_encoder = sklearn.preprocessing.LabelEncoder()\n",
    "item_encoder.fit(items[\"item_id\"])\n",
    "items[\"item_id_enc\"] = item_encoder.transform(items[\"item_id\"])\n",
    "events_train[\"item_id_enc\"] = item_encoder.transform(events_train[\"item_id\"])\n",
    "events_test[\"item_id_enc\"] = item_encoder.transform(events_test[\"item_id\"])"
   ]
  },
  {
   "cell_type": "markdown",
   "id": "40e0dc04-18b1-4abe-b012-568236b4d559",
   "metadata": {},
   "source": [
    "Обновим events_train, events_train, items в репозитории, сохраним энкодеры"
   ]
  },
  {
   "cell_type": "code",
   "execution_count": 19,
   "id": "4d7c2966-e2d9-4dd9-bd60-bdba03c74a37",
   "metadata": {},
   "outputs": [],
   "source": [
    "events_train.to_parquet(\"intermediate_data/events_train.parquet\")\n",
    "events_test.to_parquet(\"intermediate_data/events_test.parquet\")\n",
    "items.to_parquet(\"intermediate_data/items.parquet\")"
   ]
  },
  {
   "cell_type": "code",
   "execution_count": 20,
   "id": "1ce57421-c3df-4fef-9968-de5204da0d47",
   "metadata": {},
   "outputs": [],
   "source": [
    "import pickle"
   ]
  },
  {
   "cell_type": "code",
   "execution_count": 21,
   "id": "6c5fb43e-41a3-4103-8ea0-5897bb9db282",
   "metadata": {},
   "outputs": [],
   "source": [
    "with open('models/user_encoder.pkl', 'wb') as f:\n",
    "    pickle.dump(user_encoder, f)"
   ]
  },
  {
   "cell_type": "code",
   "execution_count": 22,
   "id": "b51c6e61-4a86-4bde-af53-2e2a564568fd",
   "metadata": {},
   "outputs": [],
   "source": [
    "with open('models/item_encoder.pkl', 'wb') as f:\n",
    "    pickle.dump(item_encoder, f)"
   ]
  },
  {
   "cell_type": "markdown",
   "id": "bced9198-88fe-4758-8a23-20c76313c8ca",
   "metadata": {},
   "source": [
    "Удаляем events для сохранения памяти"
   ]
  },
  {
   "cell_type": "code",
   "execution_count": 23,
   "id": "663a2607-83bb-4cf5-880c-f36606263163",
   "metadata": {},
   "outputs": [],
   "source": [
    "del events"
   ]
  },
  {
   "cell_type": "markdown",
   "id": "83bfc2d4-0d00-4481-9c01-6efefb71bd12",
   "metadata": {},
   "source": [
    "Формируем матрицу users-items"
   ]
  },
  {
   "cell_type": "code",
   "execution_count": 24,
   "id": "68ef56fe-0dfd-48f1-a9c4-831fd05649c6",
   "metadata": {},
   "outputs": [],
   "source": [
    "events_train_count = events_train.groupby(['user_id_enc', 'item_id_enc']).size().reset_index(name='play_count')"
   ]
  },
  {
   "cell_type": "code",
   "execution_count": 25,
   "id": "30f1bb48-1e9d-44ef-9eac-e122ec2a769a",
   "metadata": {},
   "outputs": [],
   "source": [
    "from scipy.sparse import csr_matrix\n",
    "\n",
    "user_item_matrix_train = csr_matrix((\n",
    "    events_train_count['play_count'],\n",
    "    (events_train_count['user_id_enc'], events_train_count['item_id_enc'])\n",
    "))"
   ]
  },
  {
   "cell_type": "markdown",
   "id": "d05204a1-c946-42e9-aeb2-2a1d50611500",
   "metadata": {},
   "source": [
    "Сохраняем матрицу в intermediate_data"
   ]
  },
  {
   "cell_type": "code",
   "execution_count": 26,
   "id": "62705bfd-c429-47e2-9fce-294f32a40a43",
   "metadata": {},
   "outputs": [],
   "source": [
    "from scipy.sparse import save_npz, load_npz\n",
    "\n",
    "save_npz(\"intermediate_data/user_item_matrix_train.npz\", user_item_matrix_train)"
   ]
  },
  {
   "cell_type": "markdown",
   "id": "2ca57d50-c101-40b5-95d5-9f20166703cc",
   "metadata": {},
   "source": [
    "Обучаем модель, берем 10 факторов и 50 итераций"
   ]
  },
  {
   "cell_type": "code",
   "execution_count": 27,
   "id": "25bc3ebe-8a7a-4727-96b3-a7966f9aec5c",
   "metadata": {},
   "outputs": [
    {
     "name": "stderr",
     "output_type": "stream",
     "text": [
      "/home/ak/Desktop/mle-project-sprint-4-v001/.venv_project/lib/python3.10/site-packages/implicit/cpu/als.py:95: RuntimeWarning: OpenBLAS is configured to use 16 threads. It is highly recommended to disable its internal threadpool by setting the environment variable 'OPENBLAS_NUM_THREADS=1' or by calling 'threadpoolctl.threadpool_limits(1, \"blas\")'. Having OpenBLAS use a threadpool can lead to severe performance issues here.\n",
      "  check_blas_config()\n"
     ]
    },
    {
     "data": {
      "application/vnd.jupyter.widget-view+json": {
       "model_id": "303d3f8878384c7aa8793e23beccf3d1",
       "version_major": 2,
       "version_minor": 0
      },
      "text/plain": [
       "  0%|          | 0/50 [00:00<?, ?it/s]"
      ]
     },
     "metadata": {},
     "output_type": "display_data"
    }
   ],
   "source": [
    "from implicit.als import AlternatingLeastSquares\n",
    "\n",
    "als_model = AlternatingLeastSquares(factors=10, iterations=50, regularization=0.05, random_state=0)\n",
    "als_model.fit(user_item_matrix_train)"
   ]
  },
  {
   "cell_type": "markdown",
   "id": "7604d399-e9b6-4a82-936f-de14d3ac6422",
   "metadata": {},
   "source": [
    "Создаем репозиторий под модель и сохраняем модель "
   ]
  },
  {
   "cell_type": "code",
   "execution_count": 28,
   "id": "00f8b246-47fd-4742-b012-1ee871b4610b",
   "metadata": {},
   "outputs": [],
   "source": [
    "import os\n",
    "os.makedirs(\"models\", exist_ok=True)"
   ]
  },
  {
   "cell_type": "code",
   "execution_count": 29,
   "id": "575fba5d-0326-4ece-941e-d3d9384bdcf6",
   "metadata": {},
   "outputs": [],
   "source": [
    "import pickle\n",
    "\n",
    "with open(\"models/als_model.pkl\", \"wb\") as f:\n",
    "    pickle.dump(als_model, f)"
   ]
  },
  {
   "cell_type": "markdown",
   "id": "cc5ef034-de7d-4145-8733-83129ca3b9ba",
   "metadata": {},
   "source": [
    "Вычисляем рекомендации. Перед выполнением этого шага перезапускаем кернел и загружаем необходимые данные"
   ]
  },
  {
   "cell_type": "code",
   "execution_count": 3,
   "id": "de2bb659-b2d6-4a1c-a3db-94256d49e2b0",
   "metadata": {},
   "outputs": [],
   "source": [
    "import pandas as pd\n",
    "import numpy as np\n",
    "import matplotlib.pyplot as plt\n",
    "import seaborn as sns\n",
    "import os\n",
    "import pickle\n",
    "from scipy.sparse import load_npz"
   ]
  },
  {
   "cell_type": "code",
   "execution_count": 4,
   "id": "8591d180-34f4-4790-a1c2-15ec3a9bb5af",
   "metadata": {},
   "outputs": [],
   "source": [
    "# Load\n",
    "with open('models/user_encoder.pkl', 'rb') as f:\n",
    "    user_encoder = pickle.load(f)\n",
    "\n",
    "with open('models/als_model.pkl', 'rb') as f:\n",
    "    als_model = pickle.load(f)\n",
    "\n",
    "user_item_matrix_train = load_npz(\"intermediate_data/user_item_matrix_train.npz\")"
   ]
  },
  {
   "cell_type": "markdown",
   "id": "02f0a89a-ebe0-4ec9-9c71-3eb15067d4fc",
   "metadata": {},
   "source": [
    "Получаем рекомендации на user_item_matrix_train"
   ]
  },
  {
   "cell_type": "code",
   "execution_count": 5,
   "id": "b592297c-c52a-4ba2-8fdf-d955102046a8",
   "metadata": {},
   "outputs": [],
   "source": [
    "# получаем список всех возможных user_id (перекодированных)\n",
    "user_ids_encoded = range(len(user_encoder.classes_))\n",
    "\n",
    "# получаем рекомендации для всех пользователей\n",
    "als_recommendations = als_model.recommend(\n",
    "    user_ids_encoded,\n",
    "    user_item_matrix_train[user_ids_encoded],\n",
    "    filter_already_liked_items=False, N=10)"
   ]
  },
  {
   "cell_type": "markdown",
   "id": "4fa9890b-09c9-447a-b3e2-370db2708526",
   "metadata": {},
   "source": [
    "Загружаем item_encoder"
   ]
  },
  {
   "cell_type": "code",
   "execution_count": 6,
   "id": "be0068b1-5ca9-48de-b030-f81eeea73874",
   "metadata": {},
   "outputs": [],
   "source": [
    "with open('models/item_encoder.pkl', 'rb') as f:\n",
    "    item_encoder = pickle.load(f)"
   ]
  },
  {
   "cell_type": "code",
   "execution_count": 7,
   "id": "96ac406d-d6cb-4862-ad99-9c3e7cb3813d",
   "metadata": {},
   "outputs": [],
   "source": [
    "# преобразуем полученные рекомендации в табличный формат\n",
    "item_ids_enc = als_recommendations[0]\n",
    "als_scores = als_recommendations[1]\n",
    "\n",
    "als_recommendations = pd.DataFrame({\n",
    "    \"user_id_enc\": user_ids_encoded,\n",
    "    \"item_id_enc\": item_ids_enc.tolist(),\n",
    "    \"score\": als_scores.tolist()})\n",
    "als_recommendations = als_recommendations.explode([\"item_id_enc\", \"score\"], ignore_index=True)\n",
    "\n",
    "# приводим типы данных\n",
    "als_recommendations[\"item_id_enc\"] = als_recommendations[\"item_id_enc\"].astype(\"int\")\n",
    "als_recommendations[\"score\"] = als_recommendations[\"score\"].astype(\"float\")\n",
    "\n",
    "# получаем изначальные идентификаторы\n",
    "als_recommendations[\"user_id\"] = user_encoder.inverse_transform(als_recommendations[\"user_id_enc\"])\n",
    "als_recommendations[\"item_id\"] = item_encoder.inverse_transform(als_recommendations[\"item_id_enc\"])\n",
    "als_recommendations = als_recommendations.drop(columns=[\"user_id_enc\", \"item_id_enc\"])"
   ]
  },
  {
   "cell_type": "code",
   "execution_count": 8,
   "id": "eaa825ef-26d1-46ec-af22-39dc119351f8",
   "metadata": {},
   "outputs": [],
   "source": [
    "als_recommendations.to_parquet(\"recommendations/personal_als.parquet\")"
   ]
  },
  {
   "cell_type": "code",
   "execution_count": 9,
   "id": "03ee4728-04ab-4047-b103-e6c7f2bde4c1",
   "metadata": {},
   "outputs": [
    {
     "data": {
      "text/html": [
       "<div>\n",
       "<style scoped>\n",
       "    .dataframe tbody tr th:only-of-type {\n",
       "        vertical-align: middle;\n",
       "    }\n",
       "\n",
       "    .dataframe tbody tr th {\n",
       "        vertical-align: top;\n",
       "    }\n",
       "\n",
       "    .dataframe thead th {\n",
       "        text-align: right;\n",
       "    }\n",
       "</style>\n",
       "<table border=\"1\" class=\"dataframe\">\n",
       "  <thead>\n",
       "    <tr style=\"text-align: right;\">\n",
       "      <th></th>\n",
       "      <th>score</th>\n",
       "      <th>user_id</th>\n",
       "      <th>item_id</th>\n",
       "    </tr>\n",
       "  </thead>\n",
       "  <tbody>\n",
       "    <tr>\n",
       "      <th>0</th>\n",
       "      <td>0.005717</td>\n",
       "      <td>0</td>\n",
       "      <td>35505245</td>\n",
       "    </tr>\n",
       "    <tr>\n",
       "      <th>1</th>\n",
       "      <td>0.005681</td>\n",
       "      <td>0</td>\n",
       "      <td>732401</td>\n",
       "    </tr>\n",
       "    <tr>\n",
       "      <th>2</th>\n",
       "      <td>0.005520</td>\n",
       "      <td>0</td>\n",
       "      <td>178529</td>\n",
       "    </tr>\n",
       "    <tr>\n",
       "      <th>3</th>\n",
       "      <td>0.005508</td>\n",
       "      <td>0</td>\n",
       "      <td>580880</td>\n",
       "    </tr>\n",
       "    <tr>\n",
       "      <th>4</th>\n",
       "      <td>0.005497</td>\n",
       "      <td>0</td>\n",
       "      <td>560468</td>\n",
       "    </tr>\n",
       "    <tr>\n",
       "      <th>...</th>\n",
       "      <td>...</td>\n",
       "      <td>...</td>\n",
       "      <td>...</td>\n",
       "    </tr>\n",
       "    <tr>\n",
       "      <th>13732205</th>\n",
       "      <td>0.147550</td>\n",
       "      <td>1374582</td>\n",
       "      <td>51241318</td>\n",
       "    </tr>\n",
       "    <tr>\n",
       "      <th>13732206</th>\n",
       "      <td>0.143306</td>\n",
       "      <td>1374582</td>\n",
       "      <td>57921154</td>\n",
       "    </tr>\n",
       "    <tr>\n",
       "      <th>13732207</th>\n",
       "      <td>0.140446</td>\n",
       "      <td>1374582</td>\n",
       "      <td>56920237</td>\n",
       "    </tr>\n",
       "    <tr>\n",
       "      <th>13732208</th>\n",
       "      <td>0.138482</td>\n",
       "      <td>1374582</td>\n",
       "      <td>62352387</td>\n",
       "    </tr>\n",
       "    <tr>\n",
       "      <th>13732209</th>\n",
       "      <td>0.133337</td>\n",
       "      <td>1374582</td>\n",
       "      <td>50834580</td>\n",
       "    </tr>\n",
       "  </tbody>\n",
       "</table>\n",
       "<p>13732210 rows × 3 columns</p>\n",
       "</div>"
      ],
      "text/plain": [
       "             score  user_id   item_id\n",
       "0         0.005717        0  35505245\n",
       "1         0.005681        0    732401\n",
       "2         0.005520        0    178529\n",
       "3         0.005508        0    580880\n",
       "4         0.005497        0    560468\n",
       "...            ...      ...       ...\n",
       "13732205  0.147550  1374582  51241318\n",
       "13732206  0.143306  1374582  57921154\n",
       "13732207  0.140446  1374582  56920237\n",
       "13732208  0.138482  1374582  62352387\n",
       "13732209  0.133337  1374582  50834580\n",
       "\n",
       "[13732210 rows x 3 columns]"
      ]
     },
     "execution_count": 9,
     "metadata": {},
     "output_type": "execute_result"
    }
   ],
   "source": [
    "als_recommendations"
   ]
  },
  {
   "cell_type": "markdown",
   "id": "5f09dc7e-7c91-4355-860a-b9cfb9f33f15",
   "metadata": {},
   "source": [
    "# Похожие"
   ]
  },
  {
   "cell_type": "markdown",
   "id": "1dfcb683-b440-40a8-9975-894156a53872",
   "metadata": {},
   "source": [
    "Рассчитаем похожие, они позже пригодятся для онлайн-рекомендаций."
   ]
  },
  {
   "cell_type": "code",
   "execution_count": 1,
   "id": "2493da54-fcfa-4a73-a424-354fab99f1e5",
   "metadata": {},
   "outputs": [],
   "source": [
    "import pandas as pd\n",
    "import numpy as np\n",
    "import matplotlib.pyplot as plt\n",
    "import seaborn as sns\n",
    "import os\n",
    "import pickle\n",
    "from scipy.sparse import load_npz"
   ]
  },
  {
   "cell_type": "code",
   "execution_count": 2,
   "id": "2fdb9570-de56-43b5-a0d0-923119fb7df6",
   "metadata": {},
   "outputs": [],
   "source": [
    "events_train = pd.read_parquet(\"intermediate_data/events_train.parquet\")"
   ]
  },
  {
   "cell_type": "code",
   "execution_count": 3,
   "id": "05594001-9b4f-4f55-a64d-8bddba19cc0c",
   "metadata": {},
   "outputs": [],
   "source": [
    "with open('models/als_model.pkl', 'rb') as f:\n",
    "    als_model = pickle.load(f)"
   ]
  },
  {
   "cell_type": "code",
   "execution_count": 4,
   "id": "a87ab8e3-5d32-475a-9edb-098b23295b10",
   "metadata": {},
   "outputs": [],
   "source": [
    "with open('models/item_encoder.pkl', 'rb') as f:\n",
    "    item_encoder = pickle.load(f)"
   ]
  },
  {
   "cell_type": "code",
   "execution_count": 5,
   "id": "ce370904-4c49-4152-8706-416074ea9b9a",
   "metadata": {},
   "outputs": [],
   "source": [
    "# получим энкодированные идентификаторы всех объектов, известных нам из events_train\n",
    "train_item_ids_enc = events_train['item_id_enc'].unique()\n",
    "\n",
    "max_similar_items = 10\n",
    "\n",
    "# получаем списки похожих объектов, используя ранее полученную ALS-модель\n",
    "# метод similar_items возвращает и сам объект, как наиболее похожий\n",
    "# этот объект мы позже отфильтруем, но сейчас запросим на 1 больше\n",
    "similar_items = als_model.similar_items(train_item_ids_enc, N=max_similar_items+1)\n",
    "\n",
    "# преобразуем полученные списки в табличный формат\n",
    "sim_item_item_ids_enc = similar_items[0]\n",
    "sim_item_scores = similar_items[1]\n",
    "\n",
    "similar_items = pd.DataFrame({\n",
    "    \"item_id_enc\": train_item_ids_enc,\n",
    "    \"sim_item_id_enc\": sim_item_item_ids_enc.tolist(), \n",
    "    \"score\": sim_item_scores.tolist()})\n",
    "similar_items = similar_items.explode([\"sim_item_id_enc\", \"score\"])\n",
    "\n",
    "# приводим типы данных\n",
    "similar_items[\"sim_item_id_enc\"] = similar_items[\"sim_item_id_enc\"].astype(\"int\")\n",
    "similar_items[\"score\"] = similar_items[\"score\"].astype(\"float\")"
   ]
  },
  {
   "cell_type": "code",
   "execution_count": 6,
   "id": "a92f05a1-eeed-4ccb-a584-9386042d9279",
   "metadata": {},
   "outputs": [],
   "source": [
    "# получаем изначальные идентификаторы\n",
    "similar_items[\"item_id_1\"] = item_encoder.inverse_transform(similar_items[\"item_id_enc\"])\n",
    "similar_items[\"item_id_2\"] = item_encoder.inverse_transform(similar_items[\"sim_item_id_enc\"])\n",
    "similar_items = similar_items.drop(columns=[\"item_id_enc\", \"sim_item_id_enc\"])\n",
    "\n",
    "# убираем пары с одинаковыми объектами\n",
    "similar_items = similar_items.query(\"item_id_1 != item_id_2\")"
   ]
  },
  {
   "cell_type": "code",
   "execution_count": 8,
   "id": "d51abb62-306b-4d3a-b55e-081ad9fc7e37",
   "metadata": {},
   "outputs": [
    {
     "data": {
      "text/html": [
       "<div>\n",
       "<style scoped>\n",
       "    .dataframe tbody tr th:only-of-type {\n",
       "        vertical-align: middle;\n",
       "    }\n",
       "\n",
       "    .dataframe tbody tr th {\n",
       "        vertical-align: top;\n",
       "    }\n",
       "\n",
       "    .dataframe thead th {\n",
       "        text-align: right;\n",
       "    }\n",
       "</style>\n",
       "<table border=\"1\" class=\"dataframe\">\n",
       "  <thead>\n",
       "    <tr style=\"text-align: right;\">\n",
       "      <th></th>\n",
       "      <th>score</th>\n",
       "      <th>item_id_1</th>\n",
       "      <th>item_id_2</th>\n",
       "    </tr>\n",
       "  </thead>\n",
       "  <tbody>\n",
       "    <tr>\n",
       "      <th>0</th>\n",
       "      <td>0.983613</td>\n",
       "      <td>99262</td>\n",
       "      <td>17747977</td>\n",
       "    </tr>\n",
       "    <tr>\n",
       "      <th>0</th>\n",
       "      <td>0.978718</td>\n",
       "      <td>99262</td>\n",
       "      <td>695860</td>\n",
       "    </tr>\n",
       "    <tr>\n",
       "      <th>0</th>\n",
       "      <td>0.978281</td>\n",
       "      <td>99262</td>\n",
       "      <td>20266461</td>\n",
       "    </tr>\n",
       "    <tr>\n",
       "      <th>0</th>\n",
       "      <td>0.976782</td>\n",
       "      <td>99262</td>\n",
       "      <td>2337217</td>\n",
       "    </tr>\n",
       "    <tr>\n",
       "      <th>0</th>\n",
       "      <td>0.976522</td>\n",
       "      <td>99262</td>\n",
       "      <td>31895895</td>\n",
       "    </tr>\n",
       "    <tr>\n",
       "      <th>...</th>\n",
       "      <td>...</td>\n",
       "      <td>...</td>\n",
       "      <td>...</td>\n",
       "    </tr>\n",
       "    <tr>\n",
       "      <th>999694</th>\n",
       "      <td>0.964755</td>\n",
       "      <td>94642241</td>\n",
       "      <td>99552500</td>\n",
       "    </tr>\n",
       "    <tr>\n",
       "      <th>999694</th>\n",
       "      <td>0.961888</td>\n",
       "      <td>94642241</td>\n",
       "      <td>66022588</td>\n",
       "    </tr>\n",
       "    <tr>\n",
       "      <th>999694</th>\n",
       "      <td>0.961709</td>\n",
       "      <td>94642241</td>\n",
       "      <td>88722825</td>\n",
       "    </tr>\n",
       "    <tr>\n",
       "      <th>999694</th>\n",
       "      <td>0.959551</td>\n",
       "      <td>94642241</td>\n",
       "      <td>99262309</td>\n",
       "    </tr>\n",
       "    <tr>\n",
       "      <th>999694</th>\n",
       "      <td>0.959006</td>\n",
       "      <td>94642241</td>\n",
       "      <td>95730526</td>\n",
       "    </tr>\n",
       "  </tbody>\n",
       "</table>\n",
       "<p>9998678 rows × 3 columns</p>\n",
       "</div>"
      ],
      "text/plain": [
       "           score  item_id_1  item_id_2\n",
       "0       0.983613      99262   17747977\n",
       "0       0.978718      99262     695860\n",
       "0       0.978281      99262   20266461\n",
       "0       0.976782      99262    2337217\n",
       "0       0.976522      99262   31895895\n",
       "...          ...        ...        ...\n",
       "999694  0.964755   94642241   99552500\n",
       "999694  0.961888   94642241   66022588\n",
       "999694  0.961709   94642241   88722825\n",
       "999694  0.959551   94642241   99262309\n",
       "999694  0.959006   94642241   95730526\n",
       "\n",
       "[9998678 rows x 3 columns]"
      ]
     },
     "execution_count": 8,
     "metadata": {},
     "output_type": "execute_result"
    }
   ],
   "source": [
    "similar_items"
   ]
  },
  {
   "cell_type": "markdown",
   "id": "777d5b18-fd70-496e-8685-0005f3f14a98",
   "metadata": {},
   "source": [
    "Сохраним рекомендации"
   ]
  },
  {
   "cell_type": "code",
   "execution_count": 7,
   "id": "6596ce86-ee3d-4896-abc0-faf2d33777e1",
   "metadata": {},
   "outputs": [],
   "source": [
    "similar_items.to_parquet(\"recommendations/similar.parquet\")"
   ]
  },
  {
   "cell_type": "markdown",
   "id": "0087a3e7-ca9f-42cd-944c-944222c1baef",
   "metadata": {},
   "source": [
    "# Построение признаков"
   ]
  },
  {
   "cell_type": "markdown",
   "id": "e82a32e1-b90b-4eaf-9439-fc8deab9f34b",
   "metadata": {},
   "source": [
    "Построим три признака, можно больше, для ранжирующей модели."
   ]
  },
  {
   "cell_type": "code",
   "execution_count": null,
   "id": "05b4ae84-406a-44a4-abec-4f80f93e3004",
   "metadata": {},
   "outputs": [],
   "source": []
  },
  {
   "cell_type": "code",
   "execution_count": null,
   "id": "00f84c35-f544-4c3d-ad53-9b1d2b684c75",
   "metadata": {},
   "outputs": [],
   "source": []
  },
  {
   "cell_type": "markdown",
   "id": "47bcf88d-b236-46f0-a6f3-38ddd64895fe",
   "metadata": {},
   "source": [
    "# Ранжирование рекомендаций"
   ]
  },
  {
   "cell_type": "markdown",
   "id": "e8cd8223-3418-4493-8c87-1f76286ebda0",
   "metadata": {},
   "source": [
    "Построим ранжирующую модель, чтобы сделать рекомендации более точными. Отранжируем рекомендации."
   ]
  },
  {
   "cell_type": "code",
   "execution_count": null,
   "id": "79f1dd92-32a9-463d-827e-8bb9ee5bbb54",
   "metadata": {},
   "outputs": [],
   "source": []
  },
  {
   "cell_type": "code",
   "execution_count": null,
   "id": "6dbe4db4-1ac5-44da-a13c-8e7f9768ab73",
   "metadata": {},
   "outputs": [],
   "source": []
  },
  {
   "cell_type": "markdown",
   "id": "b3c84071-45b5-4a15-a683-e0ab034a3128",
   "metadata": {},
   "source": [
    "# Оценка качества"
   ]
  },
  {
   "cell_type": "markdown",
   "id": "1b107fe4-554e-42b1-87d9-c435a52bb77a",
   "metadata": {},
   "source": [
    "Проверим оценку качества трёх типов рекомендаций: \n",
    "\n",
    "- топ популярных,\n",
    "- персональных, полученных при помощи ALS,\n",
    "- итоговых\n",
    "  \n",
    "по четырем метрикам: recall, precision, coverage, novelty."
   ]
  },
  {
   "cell_type": "code",
   "execution_count": null,
   "id": "94d6f388-aecb-443e-8647-14014e932d4d",
   "metadata": {},
   "outputs": [],
   "source": []
  },
  {
   "cell_type": "code",
   "execution_count": null,
   "id": "26df411f-14c1-4848-8797-f37afe449cc6",
   "metadata": {},
   "outputs": [],
   "source": []
  },
  {
   "cell_type": "markdown",
   "id": "f1c8d38c-32b0-46a4-96f0-cd01dac708bc",
   "metadata": {},
   "source": [
    "# === Выводы, метрики ==="
   ]
  },
  {
   "cell_type": "markdown",
   "id": "f7d7d5d8-7d1e-4fdf-a6cd-83e5ce92c684",
   "metadata": {},
   "source": [
    "Основные выводы при работе над расчётом рекомендаций, рассчитанные метрики."
   ]
  },
  {
   "cell_type": "code",
   "execution_count": null,
   "id": "6403097d-db36-46d9-8952-613c9bd51b05",
   "metadata": {},
   "outputs": [],
   "source": []
  },
  {
   "cell_type": "code",
   "execution_count": null,
   "id": "986cfdd5-6f2e-4de6-8666-85804c87d04b",
   "metadata": {},
   "outputs": [],
   "source": []
  }
 ],
 "metadata": {
  "kernelspec": {
   "display_name": "Python 3 (ipykernel)",
   "language": "python",
   "name": "python3"
  },
  "language_info": {
   "codemirror_mode": {
    "name": "ipython",
    "version": 3
   },
   "file_extension": ".py",
   "mimetype": "text/x-python",
   "name": "python",
   "nbconvert_exporter": "python",
   "pygments_lexer": "ipython3",
   "version": "3.10.12"
  }
 },
 "nbformat": 4,
 "nbformat_minor": 5
}
