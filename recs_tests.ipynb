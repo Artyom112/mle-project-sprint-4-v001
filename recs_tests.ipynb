{
 "cells": [
  {
   "cell_type": "code",
   "execution_count": 2,
   "id": "dac8785a-50a3-4081-b3ec-4559ca396299",
   "metadata": {},
   "outputs": [],
   "source": [
    "import pandas as pd"
   ]
  },
  {
   "cell_type": "code",
   "execution_count": 3,
   "id": "2c87f7ab-65c8-466b-966d-44bb97e96dd3",
   "metadata": {},
   "outputs": [],
   "source": [
    "similar_items = pd.read_parquet(\"recommendations/similar_items.parquet\").set_index(\"item_id_1\")"
   ]
  },
  {
   "cell_type": "code",
   "execution_count": 4,
   "id": "dc58c613-310e-4414-803f-51cc20b044b5",
   "metadata": {},
   "outputs": [],
   "source": [
    "recommendations = pd.read_parquet(\"recommendations/recommendations.parquet\")"
   ]
  },
  {
   "cell_type": "code",
   "execution_count": null,
   "id": "8d1c500d-1a67-49d7-82b1-bbc9e3c6aeb7",
   "metadata": {},
   "outputs": [],
   "source": []
  },
  {
   "cell_type": "code",
   "execution_count": 24,
   "id": "45af439b-a711-4b14-b2f0-6527bd8acc94",
   "metadata": {},
   "outputs": [
    {
     "data": {
      "text/html": [
       "<div>\n",
       "<style scoped>\n",
       "    .dataframe tbody tr th:only-of-type {\n",
       "        vertical-align: middle;\n",
       "    }\n",
       "\n",
       "    .dataframe tbody tr th {\n",
       "        vertical-align: top;\n",
       "    }\n",
       "\n",
       "    .dataframe thead th {\n",
       "        text-align: right;\n",
       "    }\n",
       "</style>\n",
       "<table border=\"1\" class=\"dataframe\">\n",
       "  <thead>\n",
       "    <tr style=\"text-align: right;\">\n",
       "      <th></th>\n",
       "      <th>user_id</th>\n",
       "      <th>item_id</th>\n",
       "      <th>als_score</th>\n",
       "      <th>sim_score</th>\n",
       "      <th>reading_days</th>\n",
       "      <th>tracks_listened</th>\n",
       "      <th>genre_counts</th>\n",
       "      <th>cb_score</th>\n",
       "      <th>rank</th>\n",
       "    </tr>\n",
       "  </thead>\n",
       "  <tbody>\n",
       "    <tr>\n",
       "      <th>11</th>\n",
       "      <td>26</td>\n",
       "      <td>61536214</td>\n",
       "      <td>NaN</td>\n",
       "      <td>0.996630</td>\n",
       "      <td>83</td>\n",
       "      <td>218</td>\n",
       "      <td>1</td>\n",
       "      <td>0.433827</td>\n",
       "      <td>1</td>\n",
       "    </tr>\n",
       "    <tr>\n",
       "      <th>12</th>\n",
       "      <td>26</td>\n",
       "      <td>48826179</td>\n",
       "      <td>NaN</td>\n",
       "      <td>0.993039</td>\n",
       "      <td>83</td>\n",
       "      <td>218</td>\n",
       "      <td>1</td>\n",
       "      <td>0.394402</td>\n",
       "      <td>2</td>\n",
       "    </tr>\n",
       "    <tr>\n",
       "      <th>13</th>\n",
       "      <td>26</td>\n",
       "      <td>34887407</td>\n",
       "      <td>NaN</td>\n",
       "      <td>0.984857</td>\n",
       "      <td>83</td>\n",
       "      <td>218</td>\n",
       "      <td>1</td>\n",
       "      <td>0.331117</td>\n",
       "      <td>3</td>\n",
       "    </tr>\n",
       "    <tr>\n",
       "      <th>14</th>\n",
       "      <td>26</td>\n",
       "      <td>23559960</td>\n",
       "      <td>0.083480</td>\n",
       "      <td>NaN</td>\n",
       "      <td>83</td>\n",
       "      <td>218</td>\n",
       "      <td>1</td>\n",
       "      <td>0.114855</td>\n",
       "      <td>4</td>\n",
       "    </tr>\n",
       "    <tr>\n",
       "      <th>15</th>\n",
       "      <td>26</td>\n",
       "      <td>21133234</td>\n",
       "      <td>0.070623</td>\n",
       "      <td>NaN</td>\n",
       "      <td>83</td>\n",
       "      <td>218</td>\n",
       "      <td>1</td>\n",
       "      <td>0.103955</td>\n",
       "      <td>5</td>\n",
       "    </tr>\n",
       "  </tbody>\n",
       "</table>\n",
       "</div>"
      ],
      "text/plain": [
       "    user_id   item_id  als_score  sim_score  reading_days  tracks_listened  \\\n",
       "11       26  61536214        NaN   0.996630            83              218   \n",
       "12       26  48826179        NaN   0.993039            83              218   \n",
       "13       26  34887407        NaN   0.984857            83              218   \n",
       "14       26  23559960   0.083480        NaN            83              218   \n",
       "15       26  21133234   0.070623        NaN            83              218   \n",
       "\n",
       "    genre_counts  cb_score  rank  \n",
       "11             1  0.433827     1  \n",
       "12             1  0.394402     2  \n",
       "13             1  0.331117     3  \n",
       "14             1  0.114855     4  \n",
       "15             1  0.103955     5  "
      ]
     },
     "execution_count": 24,
     "metadata": {},
     "output_type": "execute_result"
    }
   ],
   "source": [
    "recommendations[recommendations[\"user_id\"] == 26]"
   ]
  },
  {
   "cell_type": "code",
   "execution_count": 25,
   "id": "befcdd50-8b4c-48f5-9584-ff7db9fed08a",
   "metadata": {},
   "outputs": [
    {
     "data": {
      "text/html": [
       "<div>\n",
       "<style scoped>\n",
       "    .dataframe tbody tr th:only-of-type {\n",
       "        vertical-align: middle;\n",
       "    }\n",
       "\n",
       "    .dataframe tbody tr th {\n",
       "        vertical-align: top;\n",
       "    }\n",
       "\n",
       "    .dataframe thead th {\n",
       "        text-align: right;\n",
       "    }\n",
       "</style>\n",
       "<table border=\"1\" class=\"dataframe\">\n",
       "  <thead>\n",
       "    <tr style=\"text-align: right;\">\n",
       "      <th></th>\n",
       "      <th>score</th>\n",
       "      <th>item_id_2</th>\n",
       "    </tr>\n",
       "    <tr>\n",
       "      <th>item_id_1</th>\n",
       "      <th></th>\n",
       "      <th></th>\n",
       "    </tr>\n",
       "  </thead>\n",
       "  <tbody>\n",
       "    <tr>\n",
       "      <th>26</th>\n",
       "      <td>1.000000</td>\n",
       "      <td>26</td>\n",
       "    </tr>\n",
       "    <tr>\n",
       "      <th>26</th>\n",
       "      <td>0.979908</td>\n",
       "      <td>2163978</td>\n",
       "    </tr>\n",
       "    <tr>\n",
       "      <th>26</th>\n",
       "      <td>0.967654</td>\n",
       "      <td>23528792</td>\n",
       "    </tr>\n",
       "    <tr>\n",
       "      <th>26</th>\n",
       "      <td>0.964652</td>\n",
       "      <td>560423</td>\n",
       "    </tr>\n",
       "    <tr>\n",
       "      <th>26</th>\n",
       "      <td>0.962457</td>\n",
       "      <td>20308275</td>\n",
       "    </tr>\n",
       "    <tr>\n",
       "      <th>26</th>\n",
       "      <td>0.955484</td>\n",
       "      <td>38566204</td>\n",
       "    </tr>\n",
       "    <tr>\n",
       "      <th>26</th>\n",
       "      <td>0.954796</td>\n",
       "      <td>560452</td>\n",
       "    </tr>\n",
       "    <tr>\n",
       "      <th>26</th>\n",
       "      <td>0.953221</td>\n",
       "      <td>574995</td>\n",
       "    </tr>\n",
       "    <tr>\n",
       "      <th>26</th>\n",
       "      <td>0.952052</td>\n",
       "      <td>33307667</td>\n",
       "    </tr>\n",
       "    <tr>\n",
       "      <th>26</th>\n",
       "      <td>0.949357</td>\n",
       "      <td>32720820</td>\n",
       "    </tr>\n",
       "    <tr>\n",
       "      <th>26</th>\n",
       "      <td>0.949211</td>\n",
       "      <td>33307670</td>\n",
       "    </tr>\n",
       "  </tbody>\n",
       "</table>\n",
       "</div>"
      ],
      "text/plain": [
       "              score  item_id_2\n",
       "item_id_1                     \n",
       "26         1.000000         26\n",
       "26         0.979908    2163978\n",
       "26         0.967654   23528792\n",
       "26         0.964652     560423\n",
       "26         0.962457   20308275\n",
       "26         0.955484   38566204\n",
       "26         0.954796     560452\n",
       "26         0.953221     574995\n",
       "26         0.952052   33307667\n",
       "26         0.949357   32720820\n",
       "26         0.949211   33307670"
      ]
     },
     "execution_count": 25,
     "metadata": {},
     "output_type": "execute_result"
    }
   ],
   "source": [
    "similar_items.loc[26]"
   ]
  },
  {
   "cell_type": "code",
   "execution_count": 28,
   "id": "085957ef-3942-48c4-b6c9-c8fa49ad5862",
   "metadata": {},
   "outputs": [
    {
     "data": {
      "text/html": [
       "<div>\n",
       "<style scoped>\n",
       "    .dataframe tbody tr th:only-of-type {\n",
       "        vertical-align: middle;\n",
       "    }\n",
       "\n",
       "    .dataframe tbody tr th {\n",
       "        vertical-align: top;\n",
       "    }\n",
       "\n",
       "    .dataframe thead th {\n",
       "        text-align: right;\n",
       "    }\n",
       "</style>\n",
       "<table border=\"1\" class=\"dataframe\">\n",
       "  <thead>\n",
       "    <tr style=\"text-align: right;\">\n",
       "      <th></th>\n",
       "      <th>score</th>\n",
       "      <th>item_id_2</th>\n",
       "    </tr>\n",
       "    <tr>\n",
       "      <th>item_id_1</th>\n",
       "      <th></th>\n",
       "      <th></th>\n",
       "    </tr>\n",
       "  </thead>\n",
       "  <tbody>\n",
       "    <tr>\n",
       "      <th>33307667</th>\n",
       "      <td>1.000000</td>\n",
       "      <td>33307667</td>\n",
       "    </tr>\n",
       "    <tr>\n",
       "      <th>33307667</th>\n",
       "      <td>0.970080</td>\n",
       "      <td>110832</td>\n",
       "    </tr>\n",
       "    <tr>\n",
       "      <th>33307667</th>\n",
       "      <td>0.968075</td>\n",
       "      <td>33307668</td>\n",
       "    </tr>\n",
       "    <tr>\n",
       "      <th>33307667</th>\n",
       "      <td>0.966478</td>\n",
       "      <td>574997</td>\n",
       "    </tr>\n",
       "    <tr>\n",
       "      <th>33307667</th>\n",
       "      <td>0.964726</td>\n",
       "      <td>28379606</td>\n",
       "    </tr>\n",
       "    <tr>\n",
       "      <th>33307667</th>\n",
       "      <td>0.964428</td>\n",
       "      <td>33307672</td>\n",
       "    </tr>\n",
       "    <tr>\n",
       "      <th>33307667</th>\n",
       "      <td>0.963536</td>\n",
       "      <td>30919849</td>\n",
       "    </tr>\n",
       "    <tr>\n",
       "      <th>33307667</th>\n",
       "      <td>0.962929</td>\n",
       "      <td>574994</td>\n",
       "    </tr>\n",
       "    <tr>\n",
       "      <th>33307667</th>\n",
       "      <td>0.962672</td>\n",
       "      <td>33307663</td>\n",
       "    </tr>\n",
       "    <tr>\n",
       "      <th>33307667</th>\n",
       "      <td>0.958383</td>\n",
       "      <td>14252299</td>\n",
       "    </tr>\n",
       "    <tr>\n",
       "      <th>33307667</th>\n",
       "      <td>0.958176</td>\n",
       "      <td>33307670</td>\n",
       "    </tr>\n",
       "  </tbody>\n",
       "</table>\n",
       "</div>"
      ],
      "text/plain": [
       "              score  item_id_2\n",
       "item_id_1                     \n",
       "33307667   1.000000   33307667\n",
       "33307667   0.970080     110832\n",
       "33307667   0.968075   33307668\n",
       "33307667   0.966478     574997\n",
       "33307667   0.964726   28379606\n",
       "33307667   0.964428   33307672\n",
       "33307667   0.963536   30919849\n",
       "33307667   0.962929     574994\n",
       "33307667   0.962672   33307663\n",
       "33307667   0.958383   14252299\n",
       "33307667   0.958176   33307670"
      ]
     },
     "execution_count": 28,
     "metadata": {},
     "output_type": "execute_result"
    }
   ],
   "source": [
    "similar_items.loc[33307667]"
   ]
  },
  {
   "cell_type": "code",
   "execution_count": 31,
   "id": "9f4f6a33-d2bc-4964-b5f9-9e16d45b7e6d",
   "metadata": {},
   "outputs": [
    {
     "data": {
      "text/plain": [
       "27"
      ]
     },
     "execution_count": 31,
     "metadata": {},
     "output_type": "execute_result"
    }
   ],
   "source": [
    "len(set(    [110832,\n",
    "    33307668,\n",
    "    574997,\n",
    "    28379606,\n",
    "    33307672,\n",
    "    30919849,\n",
    "    574994,\n",
    "    33307663,\n",
    "    14252299,\n",
    "\n",
    "\n",
    "    71010334,\n",
    "    90861775,\n",
    "    92097813,\n",
    "    91121384,\n",
    "    59248625,\n",
    "    81612029,\n",
    "    89121696,\n",
    "    93006692,\n",
    "    94374664,\n",
    "\n",
    "    75210180,\n",
    "    84861661,\n",
    "    73455922,\n",
    "    27272499,\n",
    "    27407046,\n",
    "    33213638,\n",
    "    22860570,\n",
    "    38663410,\n",
    "    14150120]))"
   ]
  },
  {
   "cell_type": "code",
   "execution_count": null,
   "id": "9f6e0549-9676-4726-a639-247c6141f08c",
   "metadata": {},
   "outputs": [],
   "source": []
  },
  {
   "cell_type": "code",
   "execution_count": 11,
   "id": "cff4cfdc-1e44-4dbe-93ae-7ce3436d9a58",
   "metadata": {},
   "outputs": [],
   "source": [
    "events_test = pd.read_parquet(\"intermediate_data/events_test.parquet\")"
   ]
  },
  {
   "cell_type": "code",
   "execution_count": 12,
   "id": "4cb1edc2-8b57-4dca-86d6-ee72e1da78f5",
   "metadata": {},
   "outputs": [
    {
     "data": {
      "text/html": [
       "<div>\n",
       "<style scoped>\n",
       "    .dataframe tbody tr th:only-of-type {\n",
       "        vertical-align: middle;\n",
       "    }\n",
       "\n",
       "    .dataframe tbody tr th {\n",
       "        vertical-align: top;\n",
       "    }\n",
       "\n",
       "    .dataframe thead th {\n",
       "        text-align: right;\n",
       "    }\n",
       "</style>\n",
       "<table border=\"1\" class=\"dataframe\">\n",
       "  <thead>\n",
       "    <tr style=\"text-align: right;\">\n",
       "      <th></th>\n",
       "      <th>user_id</th>\n",
       "      <th>item_id</th>\n",
       "      <th>track_seq</th>\n",
       "      <th>started_at</th>\n",
       "      <th>user_id_enc</th>\n",
       "      <th>item_id_enc</th>\n",
       "    </tr>\n",
       "  </thead>\n",
       "  <tbody>\n",
       "    <tr>\n",
       "      <th>32</th>\n",
       "      <td>3</td>\n",
       "      <td>78194999</td>\n",
       "      <td>33</td>\n",
       "      <td>2022-12-20</td>\n",
       "      <td>3</td>\n",
       "      <td>915729</td>\n",
       "    </tr>\n",
       "    <tr>\n",
       "      <th>244</th>\n",
       "      <td>4</td>\n",
       "      <td>83375862</td>\n",
       "      <td>245</td>\n",
       "      <td>2022-12-18</td>\n",
       "      <td>4</td>\n",
       "      <td>942162</td>\n",
       "    </tr>\n",
       "    <tr>\n",
       "      <th>245</th>\n",
       "      <td>4</td>\n",
       "      <td>83764704</td>\n",
       "      <td>246</td>\n",
       "      <td>2022-12-18</td>\n",
       "      <td>4</td>\n",
       "      <td>943785</td>\n",
       "    </tr>\n",
       "    <tr>\n",
       "      <th>246</th>\n",
       "      <td>4</td>\n",
       "      <td>83858540</td>\n",
       "      <td>247</td>\n",
       "      <td>2022-12-20</td>\n",
       "      <td>4</td>\n",
       "      <td>944147</td>\n",
       "    </tr>\n",
       "    <tr>\n",
       "      <th>247</th>\n",
       "      <td>4</td>\n",
       "      <td>84099295</td>\n",
       "      <td>248</td>\n",
       "      <td>2022-12-21</td>\n",
       "      <td>4</td>\n",
       "      <td>945046</td>\n",
       "    </tr>\n",
       "    <tr>\n",
       "      <th>...</th>\n",
       "      <td>...</td>\n",
       "      <td>...</td>\n",
       "      <td>...</td>\n",
       "      <td>...</td>\n",
       "      <td>...</td>\n",
       "      <td>...</td>\n",
       "    </tr>\n",
       "    <tr>\n",
       "      <th>287</th>\n",
       "      <td>1374582</td>\n",
       "      <td>95514767</td>\n",
       "      <td>288</td>\n",
       "      <td>2022-12-29</td>\n",
       "      <td>1373220</td>\n",
       "      <td>988273</td>\n",
       "    </tr>\n",
       "    <tr>\n",
       "      <th>288</th>\n",
       "      <td>1374582</td>\n",
       "      <td>97220301</td>\n",
       "      <td>289</td>\n",
       "      <td>2022-12-29</td>\n",
       "      <td>1373220</td>\n",
       "      <td>992765</td>\n",
       "    </tr>\n",
       "    <tr>\n",
       "      <th>289</th>\n",
       "      <td>1374582</td>\n",
       "      <td>97241171</td>\n",
       "      <td>290</td>\n",
       "      <td>2022-12-29</td>\n",
       "      <td>1373220</td>\n",
       "      <td>992848</td>\n",
       "    </tr>\n",
       "    <tr>\n",
       "      <th>290</th>\n",
       "      <td>1374582</td>\n",
       "      <td>98542641</td>\n",
       "      <td>291</td>\n",
       "      <td>2022-12-29</td>\n",
       "      <td>1373220</td>\n",
       "      <td>995791</td>\n",
       "    </tr>\n",
       "    <tr>\n",
       "      <th>291</th>\n",
       "      <td>1374582</td>\n",
       "      <td>100736375</td>\n",
       "      <td>292</td>\n",
       "      <td>2022-12-30</td>\n",
       "      <td>1373220</td>\n",
       "      <td>999467</td>\n",
       "    </tr>\n",
       "  </tbody>\n",
       "</table>\n",
       "<p>13898646 rows × 6 columns</p>\n",
       "</div>"
      ],
      "text/plain": [
       "     user_id    item_id  track_seq started_at  user_id_enc  item_id_enc\n",
       "32         3   78194999         33 2022-12-20            3       915729\n",
       "244        4   83375862        245 2022-12-18            4       942162\n",
       "245        4   83764704        246 2022-12-18            4       943785\n",
       "246        4   83858540        247 2022-12-20            4       944147\n",
       "247        4   84099295        248 2022-12-21            4       945046\n",
       "..       ...        ...        ...        ...          ...          ...\n",
       "287  1374582   95514767        288 2022-12-29      1373220       988273\n",
       "288  1374582   97220301        289 2022-12-29      1373220       992765\n",
       "289  1374582   97241171        290 2022-12-29      1373220       992848\n",
       "290  1374582   98542641        291 2022-12-29      1373220       995791\n",
       "291  1374582  100736375        292 2022-12-30      1373220       999467\n",
       "\n",
       "[13898646 rows x 6 columns]"
      ]
     },
     "execution_count": 12,
     "metadata": {},
     "output_type": "execute_result"
    }
   ],
   "source": [
    "events_test"
   ]
  },
  {
   "cell_type": "code",
   "execution_count": 8,
   "id": "4ff4da65-cada-4658-b00d-762ba1f4dc3d",
   "metadata": {},
   "outputs": [
    {
     "data": {
      "text/html": [
       "<div>\n",
       "<style scoped>\n",
       "    .dataframe tbody tr th:only-of-type {\n",
       "        vertical-align: middle;\n",
       "    }\n",
       "\n",
       "    .dataframe tbody tr th {\n",
       "        vertical-align: top;\n",
       "    }\n",
       "\n",
       "    .dataframe thead th {\n",
       "        text-align: right;\n",
       "    }\n",
       "</style>\n",
       "<table border=\"1\" class=\"dataframe\">\n",
       "  <thead>\n",
       "    <tr style=\"text-align: right;\">\n",
       "      <th></th>\n",
       "      <th>user_id</th>\n",
       "      <th>item_id</th>\n",
       "      <th>als_score</th>\n",
       "      <th>sim_score</th>\n",
       "      <th>reading_days</th>\n",
       "      <th>tracks_listened</th>\n",
       "      <th>genre_counts</th>\n",
       "      <th>cb_score</th>\n",
       "      <th>rank</th>\n",
       "    </tr>\n",
       "  </thead>\n",
       "  <tbody>\n",
       "    <tr>\n",
       "      <th>0</th>\n",
       "      <td>10</td>\n",
       "      <td>41832275</td>\n",
       "      <td>NaN</td>\n",
       "      <td>0.974533</td>\n",
       "      <td>87</td>\n",
       "      <td>35</td>\n",
       "      <td>1</td>\n",
       "      <td>0.265666</td>\n",
       "      <td>1</td>\n",
       "    </tr>\n",
       "    <tr>\n",
       "      <th>1</th>\n",
       "      <td>10</td>\n",
       "      <td>44209075</td>\n",
       "      <td>NaN</td>\n",
       "      <td>0.966965</td>\n",
       "      <td>87</td>\n",
       "      <td>35</td>\n",
       "      <td>1</td>\n",
       "      <td>0.239245</td>\n",
       "      <td>2</td>\n",
       "    </tr>\n",
       "    <tr>\n",
       "      <th>2</th>\n",
       "      <td>10</td>\n",
       "      <td>43052381</td>\n",
       "      <td>0.077431</td>\n",
       "      <td>NaN</td>\n",
       "      <td>87</td>\n",
       "      <td>35</td>\n",
       "      <td>2</td>\n",
       "      <td>0.197568</td>\n",
       "      <td>3</td>\n",
       "    </tr>\n",
       "    <tr>\n",
       "      <th>3</th>\n",
       "      <td>10</td>\n",
       "      <td>49125069</td>\n",
       "      <td>0.076077</td>\n",
       "      <td>NaN</td>\n",
       "      <td>87</td>\n",
       "      <td>35</td>\n",
       "      <td>2</td>\n",
       "      <td>0.197458</td>\n",
       "      <td>4</td>\n",
       "    </tr>\n",
       "    <tr>\n",
       "      <th>4</th>\n",
       "      <td>10</td>\n",
       "      <td>45499814</td>\n",
       "      <td>0.086153</td>\n",
       "      <td>NaN</td>\n",
       "      <td>87</td>\n",
       "      <td>35</td>\n",
       "      <td>2</td>\n",
       "      <td>0.196066</td>\n",
       "      <td>5</td>\n",
       "    </tr>\n",
       "    <tr>\n",
       "      <th>5</th>\n",
       "      <td>10</td>\n",
       "      <td>39257277</td>\n",
       "      <td>0.080838</td>\n",
       "      <td>0.952898</td>\n",
       "      <td>87</td>\n",
       "      <td>35</td>\n",
       "      <td>1</td>\n",
       "      <td>0.189061</td>\n",
       "      <td>6</td>\n",
       "    </tr>\n",
       "    <tr>\n",
       "      <th>6</th>\n",
       "      <td>11</td>\n",
       "      <td>54234939</td>\n",
       "      <td>NaN</td>\n",
       "      <td>0.992041</td>\n",
       "      <td>52</td>\n",
       "      <td>94</td>\n",
       "      <td>1</td>\n",
       "      <td>0.349183</td>\n",
       "      <td>1</td>\n",
       "    </tr>\n",
       "    <tr>\n",
       "      <th>7</th>\n",
       "      <td>11</td>\n",
       "      <td>78022683</td>\n",
       "      <td>NaN</td>\n",
       "      <td>0.990634</td>\n",
       "      <td>52</td>\n",
       "      <td>94</td>\n",
       "      <td>1</td>\n",
       "      <td>0.315080</td>\n",
       "      <td>2</td>\n",
       "    </tr>\n",
       "    <tr>\n",
       "      <th>8</th>\n",
       "      <td>11</td>\n",
       "      <td>74031455</td>\n",
       "      <td>NaN</td>\n",
       "      <td>0.984650</td>\n",
       "      <td>52</td>\n",
       "      <td>94</td>\n",
       "      <td>1</td>\n",
       "      <td>0.298822</td>\n",
       "      <td>3</td>\n",
       "    </tr>\n",
       "    <tr>\n",
       "      <th>9</th>\n",
       "      <td>11</td>\n",
       "      <td>58723120</td>\n",
       "      <td>0.037162</td>\n",
       "      <td>NaN</td>\n",
       "      <td>52</td>\n",
       "      <td>94</td>\n",
       "      <td>2</td>\n",
       "      <td>0.138319</td>\n",
       "      <td>4</td>\n",
       "    </tr>\n",
       "    <tr>\n",
       "      <th>10</th>\n",
       "      <td>11</td>\n",
       "      <td>39374203</td>\n",
       "      <td>0.029952</td>\n",
       "      <td>NaN</td>\n",
       "      <td>52</td>\n",
       "      <td>94</td>\n",
       "      <td>2</td>\n",
       "      <td>0.123861</td>\n",
       "      <td>5</td>\n",
       "    </tr>\n",
       "    <tr>\n",
       "      <th>11</th>\n",
       "      <td>26</td>\n",
       "      <td>61536214</td>\n",
       "      <td>NaN</td>\n",
       "      <td>0.996630</td>\n",
       "      <td>83</td>\n",
       "      <td>218</td>\n",
       "      <td>1</td>\n",
       "      <td>0.433827</td>\n",
       "      <td>1</td>\n",
       "    </tr>\n",
       "    <tr>\n",
       "      <th>12</th>\n",
       "      <td>26</td>\n",
       "      <td>48826179</td>\n",
       "      <td>NaN</td>\n",
       "      <td>0.993039</td>\n",
       "      <td>83</td>\n",
       "      <td>218</td>\n",
       "      <td>1</td>\n",
       "      <td>0.394402</td>\n",
       "      <td>2</td>\n",
       "    </tr>\n",
       "    <tr>\n",
       "      <th>13</th>\n",
       "      <td>26</td>\n",
       "      <td>34887407</td>\n",
       "      <td>NaN</td>\n",
       "      <td>0.984857</td>\n",
       "      <td>83</td>\n",
       "      <td>218</td>\n",
       "      <td>1</td>\n",
       "      <td>0.331117</td>\n",
       "      <td>3</td>\n",
       "    </tr>\n",
       "    <tr>\n",
       "      <th>14</th>\n",
       "      <td>26</td>\n",
       "      <td>23559960</td>\n",
       "      <td>0.083480</td>\n",
       "      <td>NaN</td>\n",
       "      <td>83</td>\n",
       "      <td>218</td>\n",
       "      <td>1</td>\n",
       "      <td>0.114855</td>\n",
       "      <td>4</td>\n",
       "    </tr>\n",
       "    <tr>\n",
       "      <th>15</th>\n",
       "      <td>26</td>\n",
       "      <td>21133234</td>\n",
       "      <td>0.070623</td>\n",
       "      <td>NaN</td>\n",
       "      <td>83</td>\n",
       "      <td>218</td>\n",
       "      <td>1</td>\n",
       "      <td>0.103955</td>\n",
       "      <td>5</td>\n",
       "    </tr>\n",
       "    <tr>\n",
       "      <th>16</th>\n",
       "      <td>76</td>\n",
       "      <td>6705392</td>\n",
       "      <td>0.100196</td>\n",
       "      <td>NaN</td>\n",
       "      <td>28</td>\n",
       "      <td>90</td>\n",
       "      <td>1</td>\n",
       "      <td>0.354221</td>\n",
       "      <td>1</td>\n",
       "    </tr>\n",
       "    <tr>\n",
       "      <th>17</th>\n",
       "      <td>76</td>\n",
       "      <td>628320</td>\n",
       "      <td>0.074389</td>\n",
       "      <td>NaN</td>\n",
       "      <td>28</td>\n",
       "      <td>90</td>\n",
       "      <td>1</td>\n",
       "      <td>0.325271</td>\n",
       "      <td>2</td>\n",
       "    </tr>\n",
       "    <tr>\n",
       "      <th>18</th>\n",
       "      <td>76</td>\n",
       "      <td>25545327</td>\n",
       "      <td>NaN</td>\n",
       "      <td>0.990194</td>\n",
       "      <td>28</td>\n",
       "      <td>90</td>\n",
       "      <td>1</td>\n",
       "      <td>0.313309</td>\n",
       "      <td>3</td>\n",
       "    </tr>\n",
       "    <tr>\n",
       "      <th>19</th>\n",
       "      <td>76</td>\n",
       "      <td>26584994</td>\n",
       "      <td>NaN</td>\n",
       "      <td>0.983718</td>\n",
       "      <td>28</td>\n",
       "      <td>90</td>\n",
       "      <td>2</td>\n",
       "      <td>0.289571</td>\n",
       "      <td>4</td>\n",
       "    </tr>\n",
       "  </tbody>\n",
       "</table>\n",
       "</div>"
      ],
      "text/plain": [
       "    user_id   item_id  als_score  sim_score  reading_days  tracks_listened  \\\n",
       "0        10  41832275        NaN   0.974533            87               35   \n",
       "1        10  44209075        NaN   0.966965            87               35   \n",
       "2        10  43052381   0.077431        NaN            87               35   \n",
       "3        10  49125069   0.076077        NaN            87               35   \n",
       "4        10  45499814   0.086153        NaN            87               35   \n",
       "5        10  39257277   0.080838   0.952898            87               35   \n",
       "6        11  54234939        NaN   0.992041            52               94   \n",
       "7        11  78022683        NaN   0.990634            52               94   \n",
       "8        11  74031455        NaN   0.984650            52               94   \n",
       "9        11  58723120   0.037162        NaN            52               94   \n",
       "10       11  39374203   0.029952        NaN            52               94   \n",
       "11       26  61536214        NaN   0.996630            83              218   \n",
       "12       26  48826179        NaN   0.993039            83              218   \n",
       "13       26  34887407        NaN   0.984857            83              218   \n",
       "14       26  23559960   0.083480        NaN            83              218   \n",
       "15       26  21133234   0.070623        NaN            83              218   \n",
       "16       76   6705392   0.100196        NaN            28               90   \n",
       "17       76    628320   0.074389        NaN            28               90   \n",
       "18       76  25545327        NaN   0.990194            28               90   \n",
       "19       76  26584994        NaN   0.983718            28               90   \n",
       "\n",
       "    genre_counts  cb_score  rank  \n",
       "0              1  0.265666     1  \n",
       "1              1  0.239245     2  \n",
       "2              2  0.197568     3  \n",
       "3              2  0.197458     4  \n",
       "4              2  0.196066     5  \n",
       "5              1  0.189061     6  \n",
       "6              1  0.349183     1  \n",
       "7              1  0.315080     2  \n",
       "8              1  0.298822     3  \n",
       "9              2  0.138319     4  \n",
       "10             2  0.123861     5  \n",
       "11             1  0.433827     1  \n",
       "12             1  0.394402     2  \n",
       "13             1  0.331117     3  \n",
       "14             1  0.114855     4  \n",
       "15             1  0.103955     5  \n",
       "16             1  0.354221     1  \n",
       "17             1  0.325271     2  \n",
       "18             1  0.313309     3  \n",
       "19             2  0.289571     4  "
      ]
     },
     "execution_count": 8,
     "metadata": {},
     "output_type": "execute_result"
    }
   ],
   "source": [
    "recommendations.head(20)"
   ]
  },
  {
   "cell_type": "code",
   "execution_count": null,
   "id": "500ebdff-250d-48b7-9bc2-e4069605196d",
   "metadata": {},
   "outputs": [],
   "source": []
  },
  {
   "cell_type": "code",
   "execution_count": null,
   "id": "f79abd5e-d33f-4d87-8cf7-c8ac10a54891",
   "metadata": {},
   "outputs": [],
   "source": []
  },
  {
   "cell_type": "code",
   "execution_count": 15,
   "id": "035f3e7a-247f-4a55-acac-c584ee375c49",
   "metadata": {},
   "outputs": [
    {
     "data": {
      "text/html": [
       "<div>\n",
       "<style scoped>\n",
       "    .dataframe tbody tr th:only-of-type {\n",
       "        vertical-align: middle;\n",
       "    }\n",
       "\n",
       "    .dataframe tbody tr th {\n",
       "        vertical-align: top;\n",
       "    }\n",
       "\n",
       "    .dataframe thead th {\n",
       "        text-align: right;\n",
       "    }\n",
       "</style>\n",
       "<table border=\"1\" class=\"dataframe\">\n",
       "  <thead>\n",
       "    <tr style=\"text-align: right;\">\n",
       "      <th></th>\n",
       "      <th>score</th>\n",
       "      <th>item_id_2</th>\n",
       "    </tr>\n",
       "    <tr>\n",
       "      <th>item_id_1</th>\n",
       "      <th></th>\n",
       "      <th></th>\n",
       "    </tr>\n",
       "  </thead>\n",
       "  <tbody>\n",
       "    <tr>\n",
       "      <th>99262</th>\n",
       "      <td>1.000000</td>\n",
       "      <td>99262</td>\n",
       "    </tr>\n",
       "    <tr>\n",
       "      <th>99262</th>\n",
       "      <td>0.983613</td>\n",
       "      <td>17747977</td>\n",
       "    </tr>\n",
       "    <tr>\n",
       "      <th>99262</th>\n",
       "      <td>0.978718</td>\n",
       "      <td>695860</td>\n",
       "    </tr>\n",
       "    <tr>\n",
       "      <th>99262</th>\n",
       "      <td>0.978281</td>\n",
       "      <td>20266461</td>\n",
       "    </tr>\n",
       "    <tr>\n",
       "      <th>99262</th>\n",
       "      <td>0.976782</td>\n",
       "      <td>2337217</td>\n",
       "    </tr>\n",
       "    <tr>\n",
       "      <th>...</th>\n",
       "      <td>...</td>\n",
       "      <td>...</td>\n",
       "    </tr>\n",
       "    <tr>\n",
       "      <th>94642241</th>\n",
       "      <td>0.964755</td>\n",
       "      <td>99552500</td>\n",
       "    </tr>\n",
       "    <tr>\n",
       "      <th>94642241</th>\n",
       "      <td>0.961888</td>\n",
       "      <td>66022588</td>\n",
       "    </tr>\n",
       "    <tr>\n",
       "      <th>94642241</th>\n",
       "      <td>0.961709</td>\n",
       "      <td>88722825</td>\n",
       "    </tr>\n",
       "    <tr>\n",
       "      <th>94642241</th>\n",
       "      <td>0.959551</td>\n",
       "      <td>99262309</td>\n",
       "    </tr>\n",
       "    <tr>\n",
       "      <th>94642241</th>\n",
       "      <td>0.959006</td>\n",
       "      <td>95730526</td>\n",
       "    </tr>\n",
       "  </tbody>\n",
       "</table>\n",
       "<p>10996645 rows × 2 columns</p>\n",
       "</div>"
      ],
      "text/plain": [
       "              score  item_id_2\n",
       "item_id_1                     \n",
       "99262      1.000000      99262\n",
       "99262      0.983613   17747977\n",
       "99262      0.978718     695860\n",
       "99262      0.978281   20266461\n",
       "99262      0.976782    2337217\n",
       "...             ...        ...\n",
       "94642241   0.964755   99552500\n",
       "94642241   0.961888   66022588\n",
       "94642241   0.961709   88722825\n",
       "94642241   0.959551   99262309\n",
       "94642241   0.959006   95730526\n",
       "\n",
       "[10996645 rows x 2 columns]"
      ]
     },
     "execution_count": 15,
     "metadata": {},
     "output_type": "execute_result"
    }
   ],
   "source": [
    "similar_items"
   ]
  },
  {
   "cell_type": "code",
   "execution_count": 16,
   "id": "df0e7283-d554-4cf3-adc3-120c72c4fe8c",
   "metadata": {},
   "outputs": [
    {
     "data": {
      "text/plain": [
       "{'item_id_2': [99262,\n",
       "  17747977,\n",
       "  695860,\n",
       "  20266461,\n",
       "  2337217,\n",
       "  31895895,\n",
       "  33593512,\n",
       "  27731022,\n",
       "  32456970,\n",
       "  21853334],\n",
       " 'score': [1.0000001192092896,\n",
       "  0.9836127758026123,\n",
       "  0.9787183403968811,\n",
       "  0.9782805442810059,\n",
       "  0.9767820239067078,\n",
       "  0.9765217304229736,\n",
       "  0.9764416813850403,\n",
       "  0.9759836792945862,\n",
       "  0.9757724404335022,\n",
       "  0.975380539894104]}"
      ]
     },
     "execution_count": 16,
     "metadata": {},
     "output_type": "execute_result"
    }
   ],
   "source": [
    "item_id = 99262\n",
    "k=10\n",
    "i2i = similar_items.loc[item_id].head(k)\n",
    "i2i[[\"item_id_2\", \"score\"]].to_dict(orient=\"list\")"
   ]
  },
  {
   "cell_type": "code",
   "execution_count": null,
   "id": "c8b451cb-d72a-4037-b220-9bfc7e3c6d61",
   "metadata": {},
   "outputs": [],
   "source": []
  },
  {
   "cell_type": "code",
   "execution_count": null,
   "id": "be1a0bec-24a3-4e43-9f53-dd965fe4c04f",
   "metadata": {},
   "outputs": [],
   "source": []
  },
  {
   "cell_type": "code",
   "execution_count": null,
   "id": "3e74d161-a685-49ff-9670-12ffa22bb567",
   "metadata": {},
   "outputs": [],
   "source": []
  },
  {
   "cell_type": "code",
   "execution_count": 36,
   "id": "5c39f400-e5a1-4a1c-a009-515911d13d83",
   "metadata": {},
   "outputs": [],
   "source": [
    "class EventStore:\n",
    "\n",
    "    def __init__(self, max_events_per_user=10):\n",
    "\n",
    "        self.events = {}\n",
    "        self.max_events_per_user = max_events_per_user\n",
    "\n",
    "    def put(self, user_id, item_id):\n",
    "        \"\"\"\n",
    "        Сохраняет событие\n",
    "        \"\"\"\n",
    "        try: \n",
    "            user_events = self.events[user_id]\n",
    "            self.events[user_id] = [item_id] + user_events[: self.max_events_per_user]\n",
    "        except KeyError:\n",
    "            self.events[user_id] = [item_id]\n",
    "\n",
    "    def get(self, user_id, k):\n",
    "        \"\"\"\n",
    "        Возвращает события для пользователя\n",
    "        \"\"\"\n",
    "        try:\n",
    "            user_events = self.events[user_id][:k]\n",
    "            return user_events\n",
    "        except KeyError:\n",
    "            return []\n",
    "\n",
    "events_store = EventStore()"
   ]
  },
  {
   "cell_type": "code",
   "execution_count": 16,
   "id": "cc6e4cd1-a453-420a-a923-7a0d674a1acd",
   "metadata": {},
   "outputs": [
    {
     "data": {
      "text/plain": [
       "10"
      ]
     },
     "execution_count": 16,
     "metadata": {},
     "output_type": "execute_result"
    }
   ],
   "source": [
    "events_store.max_events_per_user"
   ]
  },
  {
   "cell_type": "code",
   "execution_count": 17,
   "id": "1bf7aa87-f230-4bd8-b6c9-17a8e54ca16a",
   "metadata": {},
   "outputs": [],
   "source": [
    "events_store.put(10, 1)"
   ]
  },
  {
   "cell_type": "code",
   "execution_count": 18,
   "id": "491beda1-d1c6-43da-bdc2-4847e292b983",
   "metadata": {},
   "outputs": [
    {
     "data": {
      "text/plain": [
       "{10: [1]}"
      ]
     },
     "execution_count": 18,
     "metadata": {},
     "output_type": "execute_result"
    }
   ],
   "source": [
    "events_store.events"
   ]
  },
  {
   "cell_type": "code",
   "execution_count": 19,
   "id": "8506e7ff-46a3-4204-8e6b-81b67d063ec9",
   "metadata": {},
   "outputs": [],
   "source": [
    "events_store.put(10, 2)"
   ]
  },
  {
   "cell_type": "code",
   "execution_count": 20,
   "id": "f06075c8-a9b2-4cee-bb77-496b33cf98c9",
   "metadata": {},
   "outputs": [
    {
     "data": {
      "text/plain": [
       "{10: [2, 1]}"
      ]
     },
     "execution_count": 20,
     "metadata": {},
     "output_type": "execute_result"
    }
   ],
   "source": [
    "events_store.events"
   ]
  },
  {
   "cell_type": "code",
   "execution_count": 21,
   "id": "22d78bc9-e80d-4902-84ed-44bb13207aa6",
   "metadata": {},
   "outputs": [],
   "source": [
    "events_store.put(10, 3)"
   ]
  },
  {
   "cell_type": "code",
   "execution_count": 22,
   "id": "8a71b5bf-9679-4210-8572-d05318210f0b",
   "metadata": {},
   "outputs": [
    {
     "data": {
      "text/plain": [
       "{10: [3, 2, 1]}"
      ]
     },
     "execution_count": 22,
     "metadata": {},
     "output_type": "execute_result"
    }
   ],
   "source": [
    "events_store.events"
   ]
  },
  {
   "cell_type": "code",
   "execution_count": 35,
   "id": "3986f2ed-08dd-45a7-b4fd-b129b0e3fde9",
   "metadata": {},
   "outputs": [
    {
     "data": {
      "text/plain": [
       "[]"
      ]
     },
     "execution_count": 35,
     "metadata": {},
     "output_type": "execute_result"
    }
   ],
   "source": [
    "events_store.get(1, 10)"
   ]
  },
  {
   "cell_type": "code",
   "execution_count": 24,
   "id": "b435e30e-5c23-4aac-8102-2f8bac2bb1bc",
   "metadata": {},
   "outputs": [
    {
     "data": {
      "text/plain": [
       "[]"
      ]
     },
     "execution_count": 24,
     "metadata": {},
     "output_type": "execute_result"
    }
   ],
   "source": [
    "events_store.get(1, 10)"
   ]
  },
  {
   "cell_type": "code",
   "execution_count": 25,
   "id": "eecade5f-5293-4ef2-a246-072350672665",
   "metadata": {},
   "outputs": [
    {
     "data": {
      "text/plain": [
       "[3]"
      ]
     },
     "execution_count": 25,
     "metadata": {},
     "output_type": "execute_result"
    }
   ],
   "source": [
    "events_store.get(10, 1)"
   ]
  },
  {
   "cell_type": "code",
   "execution_count": 29,
   "id": "3be656c0-cbff-4219-8d4b-b9fa5b4ff90e",
   "metadata": {},
   "outputs": [
    {
     "data": {
      "text/plain": [
       "[3, 2, 1]"
      ]
     },
     "execution_count": 29,
     "metadata": {},
     "output_type": "execute_result"
    }
   ],
   "source": [
    "events_store.get(10, 10)"
   ]
  },
  {
   "cell_type": "code",
   "execution_count": 32,
   "id": "4d7c741a-7dd9-4bc4-9afe-5a4e6be3024b",
   "metadata": {},
   "outputs": [],
   "source": [
    "import requests"
   ]
  },
  {
   "cell_type": "code",
   "execution_count": 30,
   "id": "17b84ed4-d708-43a4-8b04-cdef2fa6faca",
   "metadata": {},
   "outputs": [],
   "source": [
    "features_store_url = \"http://127.0.0.1:8010\"\n",
    "events_store_url = \"http://127.0.0.1:8020\""
   ]
  },
  {
   "cell_type": "code",
   "execution_count": 33,
   "id": "75dc5c7c-008c-4b14-ab63-b637401cd218",
   "metadata": {},
   "outputs": [
    {
     "data": {
      "text/plain": [
       "[3, 2, 1]"
      ]
     },
     "execution_count": 33,
     "metadata": {},
     "output_type": "execute_result"
    }
   ],
   "source": [
    "headers = {\"Content-type\": \"application/json\", \"Accept\": \"text/plain\"}\n",
    "\n",
    "# получаем последнее событие пользователя\n",
    "params = {\"user_id\": 10, \"k\": 10}\n",
    "resp = requests.post(events_store_url + \"/get\", headers=headers, params=params)\n",
    "events = resp.json()\n",
    "events = events[\"events\"]\n",
    "events\n",
    "# получаем список похожих объектов\n",
    "if len(events) > 0:\n",
    "    item_id = events[0]\n",
    "    params = {\"item_id\": item_id, \"k\": k}\n",
    "    resp = requests.post(features_store_url + \"/similar_items\", headers=headers, params=params)\n",
    "    recs = resp.json()\n",
    "    recs = recs[\"item_id_2\"]\n",
    "    recs = item_similar_items[:k]\n",
    "else:\n",
    "    recs = []"
   ]
  },
  {
   "cell_type": "code",
   "execution_count": 49,
   "id": "908aff0b-bdeb-4ef7-8e21-a6ed0bb2ad8e",
   "metadata": {},
   "outputs": [
    {
     "data": {
      "text/plain": [
       "[20266461, 695860, 17747977]"
      ]
     },
     "execution_count": 49,
     "metadata": {},
     "output_type": "execute_result"
    }
   ],
   "source": [
    "headers = {\"Content-type\": \"application/json\", \"Accept\": \"text/plain\"}\n",
    "# получаем последнее событие пользователя\n",
    "params = {\"user_id\": 1, \"k\": 10}\n",
    "resp = requests.post(events_store_url + \"/get\", headers=headers, params=params)\n",
    "events = resp.json()\n",
    "events = events[\"events\"]\n",
    "events"
   ]
  },
  {
   "cell_type": "code",
   "execution_count": 56,
   "id": "9eb40531-a4c0-4422-ae01-78caaf3e687d",
   "metadata": {},
   "outputs": [
    {
     "name": "stdout",
     "output_type": "stream",
     "text": [
      "[20266461, 27731022, 39368054, 31895895, 4931140, 28493791, 28132362, 99243, 21853334, 4645641]\n"
     ]
    }
   ],
   "source": [
    "if len(events) > 0:\n",
    "    item_id = events[0]\n",
    "    params = {\"item_id\": item_id, \"k\": 10}\n",
    "    resp = requests.post(features_store_url + \"/similar_items\", headers=headers, params=params)\n",
    "    recs = resp.json()\n",
    "    item_similar_items = recs[\"item_id_2\"]\n",
    "    recs = item_similar_items[:10]\n",
    "    print(recs)\n",
    "else:\n",
    "    recs = []"
   ]
  },
  {
   "cell_type": "code",
   "execution_count": null,
   "id": "f857aec6-6f92-4646-8a51-84a2c5e78989",
   "metadata": {},
   "outputs": [],
   "source": []
  },
  {
   "cell_type": "code",
   "execution_count": null,
   "id": "0f028e83-01fc-417b-835d-ffcf501e2940",
   "metadata": {},
   "outputs": [],
   "source": []
  },
  {
   "cell_type": "code",
   "execution_count": 3,
   "id": "0b680eb4-dd96-4e28-8431-0bd9dca22099",
   "metadata": {},
   "outputs": [],
   "source": [
    "import pandas as pd\n",
    "import requests"
   ]
  },
  {
   "cell_type": "code",
   "execution_count": 4,
   "id": "df350567-42fc-4912-88e8-01515c232d0c",
   "metadata": {},
   "outputs": [],
   "source": [
    "features_store_url = \"http://127.0.0.1:8010\"\n",
    "events_store_url = \"http://127.0.0.1:8020\""
   ]
  },
  {
   "cell_type": "code",
   "execution_count": 5,
   "id": "18e6f215-8905-4963-914c-6bbe7f9165c4",
   "metadata": {},
   "outputs": [],
   "source": [
    "def dedup_ids(ids):\n",
    "    \"\"\"\n",
    "    Дедублицирует список идентификаторов, оставляя только первое вхождение\n",
    "    \"\"\"\n",
    "    seen = set()\n",
    "    ids = [id for id in ids if not (id in seen or seen.add(id))]\n",
    "\n",
    "    return ids"
   ]
  },
  {
   "cell_type": "code",
   "execution_count": 6,
   "id": "20b68e29-b47e-43c2-81c9-436fd32ab1f2",
   "metadata": {},
   "outputs": [
    {
     "name": "stdout",
     "output_type": "stream",
     "text": [
      "{'item_id_2': [20266461, 27731022, 39368054, 31895895, 4931140, 28493791, 28132362, 99243, 21853334, 4645641], 'score': [1.0000001192092896, 0.9871935248374939, 0.9835816025733948, 0.9827108383178711, 0.9826152324676514, 0.9807316064834595, 0.9804825186729431, 0.9798195362091064, 0.9796802997589111, 0.9791824221611023]}\n",
      "\n",
      "{'item_id_2': [695860, 4637878, 2362270, 2409848, 20900880, 822252, 695863, 31895895, 4603685, 46540862], 'score': [0.9999999403953552, 0.991718053817749, 0.9910927414894104, 0.9899545907974243, 0.9899021983146667, 0.9888713359832764, 0.9882495999336243, 0.9874317646026611, 0.9869624972343445, 0.9866055846214294]}\n",
      "\n",
      "{'item_id_2': [17747977, 28132362, 15567496, 27731022, 2436250, 17748039, 29740963, 28132343, 32456970, 18755182], 'score': [1.0000001192092896, 0.9919703006744385, 0.9904125332832336, 0.9892425537109375, 0.9874008893966675, 0.9873653650283813, 0.9871160984039307, 0.9863548874855042, 0.9849717020988464, 0.9842503666877747]}\n",
      "\n"
     ]
    }
   ],
   "source": [
    "headers = {\"Content-type\": \"application/json\", \"Accept\": \"text/plain\"}\n",
    "\n",
    "# получаем список последних событий пользователя, возьмём три последних\n",
    "params = {\"user_id\": 1, \"k\": 3}\n",
    "\n",
    "# ваш код здесь\n",
    "resp = requests.post(events_store_url + \"/get\", headers=headers, params=params)\n",
    "events = resp.json()\n",
    "events = events[\"events\"]\n",
    "\n",
    "# получаем список айтемов, похожих на последние три, с которыми взаимодействовал пользователь\n",
    "items = []\n",
    "scores = []\n",
    "for item_id in events:\n",
    "    # для каждого item_id получаем список похожих в item_similar_items\n",
    "    # ваш код здесь\n",
    "    params = {\"item_id\": item_id, \"k\": 10}\n",
    "    resp = requests.post(features_store_url + \"/similar_items\", headers=headers, params=params)\n",
    "    item_similar_items = resp.json()\n",
    "    print(item_similar_items)\n",
    "    print()\n",
    "    \n",
    "    items += item_similar_items[\"item_id_2\"][1:10+1] # 9 штук\n",
    "    scores += item_similar_items[\"score\"][1:10+1] # 9 штук\n",
    "# сортируем похожие объекты по scores в убывающем порядке\n",
    "# для старта это приемлемый подход\n",
    "combined = list(zip(items, scores))\n",
    "combined = sorted(combined, key=lambda x: x[1], reverse=True)\n",
    "combined = [item for item, _ in combined]\n",
    "\n",
    "# удаляем дубликаты, чтобы не выдавать одинаковые рекомендации\n",
    "recs = dedup_ids(combined)\n"
   ]
  },
  {
   "cell_type": "code",
   "execution_count": 8,
   "id": "58220fbf-6c9d-4902-a68f-e34ff9038b92",
   "metadata": {},
   "outputs": [
    {
     "data": {
      "text/plain": [
       "24"
      ]
     },
     "execution_count": 8,
     "metadata": {},
     "output_type": "execute_result"
    }
   ],
   "source": [
    "len(recs)"
   ]
  },
  {
   "cell_type": "code",
   "execution_count": 13,
   "id": "66e923a0-0617-4fb6-8613-a3d8e48f0a15",
   "metadata": {},
   "outputs": [],
   "source": [
    "arr = [1,2,3]\n",
    "arr += [4, 5, 6]"
   ]
  },
  {
   "cell_type": "code",
   "execution_count": 14,
   "id": "6beba5e9-3160-4ed5-ac8a-45c13c564251",
   "metadata": {},
   "outputs": [
    {
     "data": {
      "text/plain": [
       "[1, 2, 3, 4, 5, 6]"
      ]
     },
     "execution_count": 14,
     "metadata": {},
     "output_type": "execute_result"
    }
   ],
   "source": [
    "arr"
   ]
  },
  {
   "cell_type": "code",
   "execution_count": 15,
   "id": "96d54c2b-43a6-41c6-afcc-7729c17479a3",
   "metadata": {},
   "outputs": [
    {
     "data": {
      "text/plain": [
       "[1, 2, 3]"
      ]
     },
     "execution_count": 15,
     "metadata": {},
     "output_type": "execute_result"
    }
   ],
   "source": [
    "max([1, 2], [1, 2, 3], key=len)"
   ]
  },
  {
   "cell_type": "code",
   "execution_count": null,
   "id": "4c058a74-c878-4fab-b0a6-7c782e214a3f",
   "metadata": {},
   "outputs": [],
   "source": []
  }
 ],
 "metadata": {
  "kernelspec": {
   "display_name": "Python 3 (ipykernel)",
   "language": "python",
   "name": "python3"
  },
  "language_info": {
   "codemirror_mode": {
    "name": "ipython",
    "version": 3
   },
   "file_extension": ".py",
   "mimetype": "text/x-python",
   "name": "python",
   "nbconvert_exporter": "python",
   "pygments_lexer": "ipython3",
   "version": "3.10.12"
  }
 },
 "nbformat": 4,
 "nbformat_minor": 5
}
